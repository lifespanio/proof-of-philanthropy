{
 "cells": [
  {
   "cell_type": "markdown",
   "id": "3e4eb758",
   "metadata": {},
   "source": [
    "## Evolving NFTs"
   ]
  },
  {
   "cell_type": "markdown",
   "id": "9b77a0fa",
   "metadata": {},
   "source": [
    "NFT with changing metadata and lineage\n",
    "\n",
    "    [User] mints [NFT] to [Wallet]\n",
    "    [NFT] default is Black\n",
    "    [Wallet A] gives money to [Charity Smart Contract]\n",
    "    [Job Runs] and [NFT] evolves to a different state"
   ]
  },
  {
   "cell_type": "markdown",
   "id": "9d3a47c6",
   "metadata": {},
   "source": [
    "Matic Mainnet NFT: https://polygonscan.com/address/0xdF230dC0d5e4c6bBA9f1570A58bE8120a33dc50F\n",
    "\n",
    "Items / Records Hashes: https://polygonscan.com/address/0xd988D35e1228780714b0485e06e20b3Ef884b764\n",
    "\n",
    "Items / Metadata Merkle Root Hash: https://polygonscan.com/address/0x09F26968f52235aa18A9feDc918E3818BA1eFD67"
   ]
  },
  {
   "cell_type": "markdown",
   "id": "0ef99156",
   "metadata": {},
   "source": [
    "# A. Setup (by the owner)"
   ]
  },
  {
   "cell_type": "markdown",
   "id": "c244f7aa",
   "metadata": {},
   "source": [
    "### 1. Create a new session as owner"
   ]
  },
  {
   "cell_type": "code",
   "execution_count": null,
   "id": "4ce2ce9e",
   "metadata": {},
   "outputs": [],
   "source": [
    "#!pip install web3"
   ]
  },
  {
   "cell_type": "code",
   "execution_count": 47,
   "id": "6f07ad4d",
   "metadata": {},
   "outputs": [
    {
     "name": "stdout",
     "output_type": "stream",
     "text": [
      "{\"res\":\"ok\",\"data\":\"pong 1691169732753\"}\n"
     ]
    }
   ],
   "source": [
    "from weaveapi.records import *\n",
    "from weaveapi.options import *\n",
    "from weaveapi.filter import *\n",
    "from weaveapi.weaveh import *\n",
    "\n",
    "import pandas as pd\n",
    "\n",
    "from web3.auto import w3\n",
    "from eth_account.messages import encode_defunct\n",
    "from hexbytes import HexBytes\n",
    "\n",
    "WEAVE_CONFIG = \"config/prod_pop_lifespan.config\"\n",
    "nodeApi, sessionOwner = connect_weave_api(WEAVE_CONFIG)\n",
    "\n",
    "data_collection = \"evolving_nfts\"\n",
    "items_table = \"items\"\n",
    "proofs_table = \"compute_proofs\"\n",
    "\n",
    "CHAIN_CONFIG_NAME = \"polygon\"\n",
    "NFT_CONTRACT = \"0xdF230dC0d5e4c6bBA9f1570A58bE8120a33dc50F\"\n",
    "ROOT_HASH_CONTRACT = \"0x09F26968f52235aa18A9feDc918E3818BA1eFD67\""
   ]
  },
  {
   "cell_type": "markdown",
   "id": "e420c7a4",
   "metadata": {},
   "source": [
    "### 2. Create a table to store items and their public attributes (WARNING: removes existing data)"
   ]
  },
  {
   "cell_type": "code",
   "execution_count": 52,
   "id": "00a25297",
   "metadata": {},
   "outputs": [
    {
     "name": "stdout",
     "output_type": "stream",
     "text": [
      "{'res': 'ok', 'target': {'operationType': 'CREATE_TABLE', 'organization': 'lifespan', 'account': 'weavejZp2gbefkBnZmjmLp3Pxn8HqsWSJGJXYFYStrHfW8ykL', 'scope': 'evolving_nfts', 'table': 'items'}}\n"
     ]
    }
   ],
   "source": [
    "layout = { \n",
    "    \"columns\": { \n",
    "        \"id\": { \"type\": \"LONG\", \"isIndexed\": True, \"isUnique\": True, \"isNullable\": False },\n",
    "        \"ts\": { \"type\": \"LONG\" },\n",
    "        \"pubkey\": { \"type\": \"STRING\" },\n",
    "        \"sig\": { \"type\": \"STRING\" },\n",
    "        \"roles\": { \"type\": \"STRING\" },\n",
    "        \"name\": { \"type\": \"STRING\" },\n",
    "        \"nft_id\": { \"type\": \"STRING\" },\n",
    "        \"metadata\": { \"type\": \"STRING\" },\n",
    "        \"private_data\": { \"type\": \"STRING\" }\n",
    "    }, \n",
    "    \"idColumnIndex\": 0,  # Autogenerates IDs\n",
    "    \"timestampColumnIndex\": 1, # Fills the column automatically with the network time\n",
    "    \"ownerColumnIndex\": 2, # Fills the pubkey column automatically with the public key of the writer\n",
    "    \"signatureColumnIndex\": 3, # Fills the column with an EdDSA signature of the record hash\n",
    "    \"allowedRolesColumnIndex\": 4, # Fills the column with an EdDSA signature of the record hash\n",
    "    \"isLocal\": False,\n",
    "    \"applyReadTransformations\": True\n",
    "}\n",
    "\n",
    "nodeApi.dropTable(sessionOwner, data_collection, items_table).get()\n",
    "reply = nodeApi.createTable(sessionOwner, data_collection, items_table, CreateOptions(False, False, layout)).get()\n",
    "print(reply)"
   ]
  },
  {
   "cell_type": "markdown",
   "id": "2cd42a6c",
   "metadata": {},
   "source": [
    "### 3. Prepare NFTs"
   ]
  },
  {
   "cell_type": "markdown",
   "id": "7e95f627",
   "metadata": {},
   "source": [
    "#### 3.1. Prepare the metadata"
   ]
  },
  {
   "cell_type": "code",
   "execution_count": 53,
   "id": "47e06705",
   "metadata": {},
   "outputs": [
    {
     "name": "stdout",
     "output_type": "stream",
     "text": [
      "{'res': 'ok', 'target': {'operationType': 'WRITE', 'organization': 'lifespan', 'account': 'weavejZp2gbefkBnZmjmLp3Pxn8HqsWSJGJXYFYStrHfW8ykL', 'scope': 'evolving_nfts', 'table': 'items'}, 'data': 'weavejZp2gbefkBnZmjmLp3Pxn8HqsWSJGJXYFYStrHfW8ykL,6fMuULYhkjeK04WzVVe0AijyAxxQlPnRkyFdPBLu9r0=,64nyDLkLChosk52azxQ7FusA5N1oMg3UTAm1CkCeow9HcK2DZ82RMP8ysKbmVXFUw4B3NYSkn9s8Brp8rGUnTRow', 'ids': '2005 2006 2007 2008 2009 2010 2011 2012 2013 2014 2015 2016 2017 2018 2019 2020 2021 2022 2023 2024 2025 2026 2027 2028 2029 2030 2031 2032 2033 2034 2035 2036 2037 2038 2039 2040 2041 2042 2043 2044 2045 2046 2047 2048 2049 2050 2051 2052 2053 2054 2055 2056 2057 2058 2059 2060 2061 2062 2063 2064 2065 2066 2067 2068 2069 2070 2071 2072 2073 2074 2075 2076 2077 2078 2079 2080 2081 2082 2083 2084 2085 2086 2087 2088 2089 2090 2091 2092 2093 2094 2095 2096 2097 2098 2099 2100 2101 2102 2103 2104 2105 2106 2107 2108 2109 2110 2111 2112 2113 2114 2115 2116 2117 2118 2119 2120 2121 2122 2123 2124 2125 2126 2127 2128 2129 2130 2131 2132 2133 2134 2135 2136 2137 2138 2139 2140 2141 2142 2143 2144 2145 2146 2147 2148 2149 2150 2151 2152 2153 2154 2155 2156 2157 2158 2159 2160 2161 2162 2163 2164 2165 2166 2167 2168 2169 2170 2171 2172 2173 2174 2175 2176 2177 2178 2179 2180 2181 2182 2183 2184 2185 2186 2187 2188 2189 2190 2191 2192 2193 2194 2195 2196 2197 2198 2199 2200 2201 2202 2203 2204 2205 2206 2207 2208 2209 2210 2211 2212 2213 2214 2215 2216 2217 2218 2219 2220 2221 2222 2223 2224 2225 2226 2227 2228 2229 2230 2231 2232 2233 2234 2235 2236 2237 2238 2239 2240 2241 2242 2243 2244 2245 2246 2247 2248 2249 2250 2251 2252 2253 2254 2255 2256 2257 2258 2259 2260 2261 2262 2263 2264 2265 2266 2267 2268 2269 2270 2271 2272 2273 2274 2275 2276 2277 2278 2279 2280 2281 2282 2283 2284 2285 2286 2287 2288 2289 2290 2291 2292 2293 2294 2295 2296 2297 2298 2299 2300 2301 2302 2303 2304 2305 2306 2307 2308 2309 2310 2311 2312 2313 2314 2315 2316 2317 2318 2319 2320 2321 2322 2323 2324 2325 2326 2327 2328 2329 2330 2331 2332 2333 2334 2335 2336 2337 2338 2339 2340 2341 2342 2343 2344 2345 2346 2347 2348 2349 2350 2351 2352 2353 2354 2355 2356 2357 2358 2359 2360 2361 2362 2363 2364 2365 2366 2367 2368 2369 2370 2371 2372 2373 2374 2375 2376 2377 2378 2379 2380 2381 2382 2383 2384 2385 2386 2387 2388 2389 2390 2391 2392 2393 2394 2395 2396 2397 2398 2399 2400 2401 2402 2403 2404 2405 2406 2407 2408 2409 2410 2411 2412 2413 2414 2415 2416 2417 2418 2419 2420 2421 2422 2423 2424 2425 2426 2427 2428 2429 2430 2431 2432 2433 2434 2435 2436 2437 2438 2439 2440 2441 2442 2443 2444 2445 2446 2447 2448 2449 2450 2451 2452 2453 2454 2455 2456 2457 2458 2459 2460 2461 2462 2463 2464 2465 2466 2467 2468 2469 2470 2471 2472 2473 2474 2475 2476 2477 2478 2479 2480 2481 2482 2483 2484 2485 2486 2487 2488 2489 2490 2491 2492 2493 2494 2495 2496 2497 2498 2499 2500 2501 2502 2503 2504 2505 2506 2507 2508 2509 2510 2511 2512 2513 2514 2515 2516 2517 2518 2519 2520 2521 2522 2523 2524 2525 2526 2527 2528 2529 2530 2531 2532 2533 2534 2535 2536 2537 2538 2539 2540 2541 2542 2543 2544 2545 2546 2547 2548 2549 2550 2551 2552 2553 2554 2555 2556 2557 2558 2559 2560 2561 2562 2563 2564 2565 2566 2567 2568 2569 2570 2571 2572 2573 2574 2575 2576 2577 2578 2579 2580 2581 2582 2583 2584 2585 2586 2587 2588 2589 2590 2591 2592 2593 2594 2595 2596 2597 2598 2599 2600 2601 2602 2603 2604 2605 2606 2607 2608 2609 2610 2611 2612 2613 2614 2615 2616 2617 2618 2619 2620 2621 2622 2623 2624 2625 2626 2627 2628 2629 2630 2631 2632 2633 2634 2635 2636 2637 2638 2639 2640 2641 2642 2643 2644 2645 2646 2647 2648 2649 2650 2651 2652 2653 2654 2655 2656 2657 2658 2659 2660 2661 2662 2663 2664 2665 2666 2667 2668 2669 2670 2671 2672 2673 2674 2675 2676 2677 2678 2679 2680 2681 2682 2683 2684 2685 2686 2687 2688 2689 2690 2691 2692 2693 2694 2695 2696 2697 2698 2699 2700 2701 2702 2703 2704 2705 2706 2707 2708 2709 2710 2711 2712 2713 2714 2715 2716 2717 2718 2719 2720 2721 2722 2723 2724 2725 2726 2727 2728 2729 2730 2731 2732 2733 2734 2735 2736 2737 2738 2739 2740 2741 2742 2743 2744 2745 2746 2747 2748 2749 2750 2751 2752 2753 2754 2755 2756 2757 2758 2759 2760 2761 2762 2763 2764 2765 2766 2767 2768 2769 2770 2771 2772 2773 2774 2775 2776 2777 2778 2779 2780 2781 2782 2783 2784 2785 2786 2787 2788 2789 2790 2791 2792 2793 2794 2795 2796 2797 2798 2799 2800 2801 2802 2803 2804 2805 2806 2807 2808 2809 2810 2811 2812 2813 2814 2815 2816 2817 2818 2819 2820 2821 2822 2823 2824 2825 2826 2827 2828 2829 2830 2831 2832 2833 2834 2835 2836 2837 2838 2839 2840 2841 2842 2843 2844 2845 2846 2847 2848 2849 2850 2851 2852 2853 2854 2855 2856 2857 2858 2859 2860 2861 2862 2863 2864 2865 2866 2867 2868 2869 2870 2871 2872 2873 2874 2875 2876 2877 2878 2879 2880 2881 2882 2883 2884 2885 2886 2887 2888 2889 2890 2891 2892 2893 2894 2895 2896 2897 2898 2899 2900 2901 2902 2903 2904 2905 2906 2907 2908 2909 2910 2911 2912 2913 2914 2915 2916 2917 2918 2919 2920 2921 2922 2923 2924 2925 2926 2927 2928 2929 2930 2931 2932 2933 2934 2935 2936 2937 2938 2939 2940 2941 2942 2943 2944 2945 2946 2947 2948 2949 2950 2951 2952 2953 2954 2955 2956 2957 2958 2959 2960 2961 2962 2963 2964 2965 2966 2967 2968 2969 2970 2971 2972 2973 2974 2975 2976 2977 2978 2979 2980 2981 2982 2983 2984 2985 2986 2987 2988 2989 2990 2991 2992 2993 2994 2995 2996 2997 2998 2999 3000 3001 3002 3003 3004'}\n"
     ]
    }
   ],
   "source": [
    "### NFT definitions\n",
    "\n",
    "ITEMS_COUNT = 1000\n",
    "\n",
    "items = []\n",
    "for item_id in range(ITEMS_COUNT):\n",
    "    nft_name = str(item_id)\n",
    "    public_data = {\n",
    "        \"name\": \"Proof of Philanthropy #\" + str(item_id + 1),\n",
    "        \"description\": \"Welcome to Ouroboros, please donate $1 to upgrade\",\n",
    "        \"attributes\": [ { \"tier\": \"black\" } ],\n",
    "        \"external_url\": \"https://pop.lifespan.io\",\n",
    "        \"image\": \"https://pop.lifespan.io:10443/file/black.png\"\n",
    "    }\n",
    "    private_data = {\n",
    "        \"tier\": \"black\"\n",
    "    }\n",
    "    \n",
    "    item = [\n",
    "        None, # id, filled server side\n",
    "        None, # timestamp, filled server side\n",
    "        None, # writer, filled server side\n",
    "        None, # signature, filled server side\n",
    "        \"*\", #allowed readers\n",
    "        item_id + 1,\n",
    "        \"nft:\" + CHAIN_CONFIG_NAME + \":\" + NFT_CONTRACT + \":\" + str(item_id + 1),\n",
    "        json.dumps(public_data),\n",
    "        json.dumps(private_data)\n",
    "    ]\n",
    "    items.append(item)\n",
    "\n",
    "#print(items)\n",
    "data = Records(items_table, items)\n",
    "res = nodeApi.write(sessionOwner, data_collection, data, WRITE_DEFAULT).get()\n",
    "print(res)"
   ]
  },
  {
   "cell_type": "markdown",
   "id": "d150d2c3",
   "metadata": {},
   "source": [
    "#### 3.2. Mint an NFT"
   ]
  },
  {
   "cell_type": "markdown",
   "id": "b9629235",
   "metadata": {},
   "source": [
    "From https://pop.lifespan.io"
   ]
  },
  {
   "cell_type": "markdown",
   "id": "2798aebc",
   "metadata": {},
   "source": [
    "#### Check the NFT balance to see that the recipient received it"
   ]
  },
  {
   "cell_type": "code",
   "execution_count": 4,
   "id": "4a36923c",
   "metadata": {},
   "outputs": [
    {
     "name": "stdout",
     "output_type": "stream",
     "text": [
      "NFTs for 0x99072461Ab46D864580c937e762473687FC597Cc 1\n"
     ]
    }
   ],
   "source": [
    "import web3\n",
    "\n",
    "ETH_NODE = 'https://rpc-mainnet.maticvigil.com'\n",
    "\n",
    "wallet = '0x99072461Ab46D864580c937e762473687FC597Cc' #Replace with the wallet used for minting\n",
    "\n",
    "w3 = web3.Web3(web3.HTTPProvider(ETH_NODE))\n",
    "\n",
    "with open(\"PoP_abi.json\", \"r\") as f:\n",
    "    item_abi = json.load(f)\n",
    "nftContract = w3.eth.contract(abi=item_abi, address=NFT_CONTRACT)\n",
    "\n",
    "print(\"NFTs for \" + wallet, nftContract.functions.balanceOf(wallet).call())"
   ]
  },
  {
   "cell_type": "markdown",
   "id": "61836fdf",
   "metadata": {},
   "source": [
    "#### The metadata for these items is automatically made available via HTTPS by our node"
   ]
  },
  {
   "cell_type": "markdown",
   "id": "de819a38",
   "metadata": {},
   "source": [
    "https://pop.lifespan.io:10443/file/nft/1"
   ]
  },
  {
   "cell_type": "markdown",
   "id": "8c7ba41d",
   "metadata": {},
   "source": [
    "### Read the NFTs metadata"
   ]
  },
  {
   "cell_type": "code",
   "execution_count": 5,
   "id": "576d1b49",
   "metadata": {},
   "outputs": [
    {
     "data": {
      "text/html": [
       "<div>\n",
       "<style scoped>\n",
       "    .dataframe tbody tr th:only-of-type {\n",
       "        vertical-align: middle;\n",
       "    }\n",
       "\n",
       "    .dataframe tbody tr th {\n",
       "        vertical-align: top;\n",
       "    }\n",
       "\n",
       "    .dataframe thead th {\n",
       "        text-align: right;\n",
       "    }\n",
       "</style>\n",
       "<table border=\"1\" class=\"dataframe\">\n",
       "  <thead>\n",
       "    <tr style=\"text-align: right;\">\n",
       "      <th></th>\n",
       "      <th>id</th>\n",
       "      <th>ts</th>\n",
       "      <th>pubkey</th>\n",
       "      <th>sig</th>\n",
       "      <th>roles</th>\n",
       "      <th>name</th>\n",
       "      <th>nft_id</th>\n",
       "      <th>metadata</th>\n",
       "      <th>private_data</th>\n",
       "    </tr>\n",
       "  </thead>\n",
       "  <tbody>\n",
       "    <tr>\n",
       "      <th>995</th>\n",
       "      <td>996</td>\n",
       "      <td>1690994599892</td>\n",
       "      <td>weavejZp2gbefkBnZmjmLp3Pxn8HqsWSJGJXYFYStrHfW8ykL</td>\n",
       "      <td>[{\"sig\":{\"recordsHash\":\"2fiAC5pI0hePyipT05zWTn...</td>\n",
       "      <td>*</td>\n",
       "      <td>996</td>\n",
       "      <td>nft:polygon:0xdF230dC0d5e4c6bBA9f1570A58bE8120...</td>\n",
       "      <td>{\"name\": \"Proof of Philanthropy\", \"description...</td>\n",
       "      <td>{\"tier\": \"black\"}</td>\n",
       "    </tr>\n",
       "    <tr>\n",
       "      <th>996</th>\n",
       "      <td>997</td>\n",
       "      <td>1690994599892</td>\n",
       "      <td>weavejZp2gbefkBnZmjmLp3Pxn8HqsWSJGJXYFYStrHfW8ykL</td>\n",
       "      <td>[{\"sig\":{\"recordsHash\":\"2fiAC5pI0hePyipT05zWTn...</td>\n",
       "      <td>*</td>\n",
       "      <td>997</td>\n",
       "      <td>nft:polygon:0xdF230dC0d5e4c6bBA9f1570A58bE8120...</td>\n",
       "      <td>{\"name\": \"Proof of Philanthropy\", \"description...</td>\n",
       "      <td>{\"tier\": \"black\"}</td>\n",
       "    </tr>\n",
       "    <tr>\n",
       "      <th>997</th>\n",
       "      <td>998</td>\n",
       "      <td>1690994599892</td>\n",
       "      <td>weavejZp2gbefkBnZmjmLp3Pxn8HqsWSJGJXYFYStrHfW8ykL</td>\n",
       "      <td>[{\"sig\":{\"recordsHash\":\"2fiAC5pI0hePyipT05zWTn...</td>\n",
       "      <td>*</td>\n",
       "      <td>998</td>\n",
       "      <td>nft:polygon:0xdF230dC0d5e4c6bBA9f1570A58bE8120...</td>\n",
       "      <td>{\"name\": \"Proof of Philanthropy\", \"description...</td>\n",
       "      <td>{\"tier\": \"black\"}</td>\n",
       "    </tr>\n",
       "    <tr>\n",
       "      <th>998</th>\n",
       "      <td>999</td>\n",
       "      <td>1690994599892</td>\n",
       "      <td>weavejZp2gbefkBnZmjmLp3Pxn8HqsWSJGJXYFYStrHfW8ykL</td>\n",
       "      <td>[{\"sig\":{\"recordsHash\":\"2fiAC5pI0hePyipT05zWTn...</td>\n",
       "      <td>*</td>\n",
       "      <td>999</td>\n",
       "      <td>nft:polygon:0xdF230dC0d5e4c6bBA9f1570A58bE8120...</td>\n",
       "      <td>{\"name\": \"Proof of Philanthropy\", \"description...</td>\n",
       "      <td>{\"tier\": \"black\"}</td>\n",
       "    </tr>\n",
       "    <tr>\n",
       "      <th>999</th>\n",
       "      <td>1000</td>\n",
       "      <td>1690994599892</td>\n",
       "      <td>weavejZp2gbefkBnZmjmLp3Pxn8HqsWSJGJXYFYStrHfW8ykL</td>\n",
       "      <td>[{\"sig\":{\"recordsHash\":\"2fiAC5pI0hePyipT05zWTn...</td>\n",
       "      <td>*</td>\n",
       "      <td>1000</td>\n",
       "      <td>nft:polygon:0xdF230dC0d5e4c6bBA9f1570A58bE8120...</td>\n",
       "      <td>{\"name\": \"Proof of Philanthropy\", \"description...</td>\n",
       "      <td>{\"tier\": \"black\"}</td>\n",
       "    </tr>\n",
       "  </tbody>\n",
       "</table>\n",
       "</div>"
      ],
      "text/plain": [
       "       id             ts                                             pubkey  \\\n",
       "995   996  1690994599892  weavejZp2gbefkBnZmjmLp3Pxn8HqsWSJGJXYFYStrHfW8ykL   \n",
       "996   997  1690994599892  weavejZp2gbefkBnZmjmLp3Pxn8HqsWSJGJXYFYStrHfW8ykL   \n",
       "997   998  1690994599892  weavejZp2gbefkBnZmjmLp3Pxn8HqsWSJGJXYFYStrHfW8ykL   \n",
       "998   999  1690994599892  weavejZp2gbefkBnZmjmLp3Pxn8HqsWSJGJXYFYStrHfW8ykL   \n",
       "999  1000  1690994599892  weavejZp2gbefkBnZmjmLp3Pxn8HqsWSJGJXYFYStrHfW8ykL   \n",
       "\n",
       "                                                   sig roles  name  \\\n",
       "995  [{\"sig\":{\"recordsHash\":\"2fiAC5pI0hePyipT05zWTn...     *   996   \n",
       "996  [{\"sig\":{\"recordsHash\":\"2fiAC5pI0hePyipT05zWTn...     *   997   \n",
       "997  [{\"sig\":{\"recordsHash\":\"2fiAC5pI0hePyipT05zWTn...     *   998   \n",
       "998  [{\"sig\":{\"recordsHash\":\"2fiAC5pI0hePyipT05zWTn...     *   999   \n",
       "999  [{\"sig\":{\"recordsHash\":\"2fiAC5pI0hePyipT05zWTn...     *  1000   \n",
       "\n",
       "                                                nft_id  \\\n",
       "995  nft:polygon:0xdF230dC0d5e4c6bBA9f1570A58bE8120...   \n",
       "996  nft:polygon:0xdF230dC0d5e4c6bBA9f1570A58bE8120...   \n",
       "997  nft:polygon:0xdF230dC0d5e4c6bBA9f1570A58bE8120...   \n",
       "998  nft:polygon:0xdF230dC0d5e4c6bBA9f1570A58bE8120...   \n",
       "999  nft:polygon:0xdF230dC0d5e4c6bBA9f1570A58bE8120...   \n",
       "\n",
       "                                              metadata       private_data  \n",
       "995  {\"name\": \"Proof of Philanthropy\", \"description...  {\"tier\": \"black\"}  \n",
       "996  {\"name\": \"Proof of Philanthropy\", \"description...  {\"tier\": \"black\"}  \n",
       "997  {\"name\": \"Proof of Philanthropy\", \"description...  {\"tier\": \"black\"}  \n",
       "998  {\"name\": \"Proof of Philanthropy\", \"description...  {\"tier\": \"black\"}  \n",
       "999  {\"name\": \"Proof of Philanthropy\", \"description...  {\"tier\": \"black\"}  "
      ]
     },
     "metadata": {},
     "output_type": "display_data"
    },
    {
     "data": {
      "text/plain": [
       "[{'sig': {'recordsHash': 'zxKrzg+2xZCOs9rjT2G9PtLo9LT39D+C8OCxwf7UNqM=',\n",
       "   'count': '1',\n",
       "   'pubKey': 'weavejZp2gbefkBnZmjmLp3Pxn8HqsWSJGJXYFYStrHfW8ykL',\n",
       "   'sig': '5N6fQbRQNsHRUpFy6azK6wff4cJFMSHPs9Yb6PA6LTwvT2SNtrPytuEvWwaT9VCczivu9uawifvVfonQRR91NY2c'}}]"
      ]
     },
     "metadata": {},
     "output_type": "display_data"
    }
   ],
   "source": [
    "filter = Filter(None, { \"id\": \"ASC\" }, None, [ \"name\" ])\n",
    "reply = nodeApi.read(sessionOwner, data_collection, items_table, filter, READ_DEFAULT_NO_CHAIN).get()\n",
    "#print(reply)\n",
    "df = pd.DataFrame(reply[\"data\"])\n",
    "\n",
    "display(df.tail())\n",
    "\n",
    "display(json.loads(df[\"sig\"][0]))"
   ]
  },
  {
   "cell_type": "markdown",
   "id": "068664e7",
   "metadata": {},
   "source": [
    "#### Check the NFT metadata and owner"
   ]
  },
  {
   "cell_type": "code",
   "execution_count": 6,
   "id": "a0b0ae08",
   "metadata": {},
   "outputs": [
    {
     "name": "stdout",
     "output_type": "stream",
     "text": [
      "NFT item 0xdF230dC0d5e4c6bBA9f1570A58bE8120a33dc50F\n",
      "NFT metadata URI https://pop.lifespan.io:10443/file/nft/1\n",
      "Owner validated: False\n",
      "{'name': 'Proof of Philanthropy', 'description': '$1-$99 donated, nice start, keep going!', 'external_url': 'https://pop.lifespan.io', 'image': 'https://pop.lifespan.io:10443/file/bronze.jpg', 'attributes': [{'tier': 'bronze'}]}\n"
     ]
    },
    {
     "data": {
      "text/html": [
       "<img src=\"https://pop.lifespan.io:10443/file/bronze.jpg\" width=\"150\" height=\"150\"/>"
      ],
      "text/plain": [
       "<IPython.core.display.Image object>"
      ]
     },
     "metadata": {},
     "output_type": "display_data"
    },
    {
     "data": {
      "text/plain": [
       "{'name': 'Proof of Philanthropy',\n",
       " 'description': '$1-$99 donated, nice start, keep going!',\n",
       " 'external_url': 'https://pop.lifespan.io',\n",
       " 'image': 'https://pop.lifespan.io:10443/file/bronze.jpg',\n",
       " 'attributes': [{'tier': 'bronze'}]}"
      ]
     },
     "metadata": {},
     "output_type": "display_data"
    }
   ],
   "source": [
    "import hmac\n",
    "import hashlib\n",
    "import base58\n",
    "from urllib.request import urlopen, Request\n",
    "from IPython.display import Image\n",
    "\n",
    "nft_id = 1 # Change\n",
    "\n",
    "nftContract = w3.eth.contract(abi=item_abi, address=NFT_CONTRACT)\n",
    "uri = nftContract.functions.tokenURI(int(nft_id)).call()\n",
    "print(\"NFT item\", NFT_CONTRACT)\n",
    "print(\"NFT metadata URI\", uri)\n",
    "\n",
    "owner = nftContract.functions.ownerOf(int(nft_id)).call()\n",
    "print(\"Owner validated:\", owner == wallet)\n",
    "req = Request(uri, data=None)\n",
    "with urlopen(req) as f:\n",
    "    public_data = json.loads(f.read().decode('utf-8'))\n",
    "    print(public_data)\n",
    "image = Image(url=public_data[\"image\"], width=150, height=150)\n",
    "display(image)\n",
    "display(public_data)"
   ]
  },
  {
   "cell_type": "markdown",
   "id": "b0545996",
   "metadata": {},
   "source": [
    "#### Check NFT metadata immutability proof anchoring on the blockchain"
   ]
  },
  {
   "cell_type": "markdown",
   "id": "c6785bde",
   "metadata": {},
   "source": [
    "Immutability Proofs (Hashes) Smart Contract: https://polygonscan.com/address/0xd988D35e1228780714b0485e06e20b3Ef884b764"
   ]
  },
  {
   "cell_type": "markdown",
   "id": "8926c794",
   "metadata": {},
   "source": [
    "- it can take seconds to be stored on chain, depending on how busy the target blockchain is"
   ]
  },
  {
   "cell_type": "code",
   "execution_count": 45,
   "id": "be69c336",
   "metadata": {},
   "outputs": [
    {
     "data": {
      "text/html": [
       "<div>\n",
       "<style scoped>\n",
       "    .dataframe tbody tr th:only-of-type {\n",
       "        vertical-align: middle;\n",
       "    }\n",
       "\n",
       "    .dataframe tbody tr th {\n",
       "        vertical-align: top;\n",
       "    }\n",
       "\n",
       "    .dataframe thead th {\n",
       "        text-align: right;\n",
       "    }\n",
       "</style>\n",
       "<table border=\"1\" class=\"dataframe\">\n",
       "  <thead>\n",
       "    <tr style=\"text-align: right;\">\n",
       "      <th></th>\n",
       "      <th>ID</th>\n",
       "      <th>Hash</th>\n",
       "    </tr>\n",
       "  </thead>\n",
       "  <tbody>\n",
       "    <tr>\n",
       "      <th>0</th>\n",
       "      <td>1</td>\n",
       "      <td>sUpyWK8UeYMfjQi4F/A+8fzG/bS6DfGe0TzkfekloR0=</td>\n",
       "    </tr>\n",
       "    <tr>\n",
       "      <th>1</th>\n",
       "      <td>1001</td>\n",
       "      <td>l3b4EEhF8ixDeENo4UOkDLS+VRM+C130IWTRkVEzifg=</td>\n",
       "    </tr>\n",
       "    <tr>\n",
       "      <th>2</th>\n",
       "      <td>1003</td>\n",
       "      <td>TdIvy492TZ+dlPkRyrrs+RPidxiF+FCoQJsdY7ndtdA=</td>\n",
       "    </tr>\n",
       "  </tbody>\n",
       "</table>\n",
       "</div>"
      ],
      "text/plain": [
       "     ID                                          Hash\n",
       "0     1  sUpyWK8UeYMfjQi4F/A+8fzG/bS6DfGe0TzkfekloR0=\n",
       "1  1001  l3b4EEhF8ixDeENo4UOkDLS+VRM+C130IWTRkVEzifg=\n",
       "2  1003  TdIvy492TZ+dlPkRyrrs+RPidxiF+FCoQJsdY7ndtdA="
      ]
     },
     "metadata": {},
     "output_type": "display_data"
    }
   ],
   "source": [
    "reply = nodeApi.hashes(sessionOwner, data_collection, items_table, None, READ_DEFAULT_NO_CHAIN).get()\n",
    "#print(reply)\n",
    "dh = pd.DataFrame([ [x, reply[\"data\"][x]] for x in list(reply[\"data\"]) ], columns=[\"ID\", \"Hash\"])\n",
    "display(dh)"
   ]
  },
  {
   "cell_type": "markdown",
   "id": "da0d6fc4",
   "metadata": {},
   "source": [
    "#### Check the collection root hash on chain"
   ]
  },
  {
   "cell_type": "markdown",
   "id": "93636050",
   "metadata": {},
   "source": [
    "Merkle Root Hash Smart Contract: https://polygonscan.com/address/0x09F26968f52235aa18A9feDc918E3818BA1eFD67"
   ]
  },
  {
   "cell_type": "code",
   "execution_count": 46,
   "id": "1f8a1585",
   "metadata": {},
   "outputs": [
    {
     "name": "stdout",
     "output_type": "stream",
     "text": [
      "Root Hash hYwi5V13TtkRdxNecHAmzbuwnRS3nN668qLBwwgpwMk\n",
      "\n",
      "Root Hash on chain: hYwi5V13TtkRdxNecHAmzbuwnRS3nN668qLBwwgpwMk\n",
      "Root Hash matching: True\n",
      "Timestamp: 1690996133717\n",
      "Signature: 2oaazaT6BirvUPyotQjwHfDnTwaJkSBkrerDFWCsMBxsdCKWEJqMUdHFqvo16QUTMSsKehdooq7y43tZpsmXYSZ6\n",
      "Check signature: true\n"
     ]
    }
   ],
   "source": [
    "salt = \"salt1234\"\n",
    "filter = Filter(None, None, None, [ \"name\" ], [ \"name\", \"nft_id\", \"metadata\", \"private_data\" ])\n",
    "reply = nodeApi.merkleTree(sessionOwner, data_collection, items_table, filter, salt, None, READ_DEFAULT_NO_CHAIN).get()\n",
    "rootHash = reply[\"data\"][\"rootHash\"]\n",
    "ts = reply[\"data\"][\"timestamp\"]\n",
    "rootHashSignature = reply[\"data\"][\"signature\"]\n",
    "\n",
    "print(\"Root Hash\", rootHash)\n",
    "\n",
    "reply = nodeApi.rootHash(sessionOwner, data_collection, items_table).get()\n",
    "#print(reply)\n",
    "\n",
    "from web3 import Web3, HTTPProvider\n",
    "\n",
    "ETH_NODE = \"https://rpc-mainnet.maticvigil.com\"\n",
    "\n",
    "w3 = Web3(HTTPProvider(ETH_NODE))\n",
    "abi = json.loads('[{\"inputs\": [], \"stateMutability\": \"nonpayable\", \"type\": \"constructor\"}, {\"anonymous\": false, \"inputs\": [{\"indexed\": true, \"internalType\": \"address\", \"name\": \"sender\", \"type\": \"address\"}, {\"indexed\": false, \"internalType\": \"uint256\", \"name\": \"id\", \"type\": \"uint256\"}, {\"indexed\": false, \"internalType\": \"string\", \"name\": \"hash\", \"type\": \"string\"}, {\"indexed\": false, \"internalType\": \"string\", \"name\": \"metadata\", \"type\": \"string\"}], \"name\": \"NewHash\", \"type\": \"event\"}, {\"anonymous\": false, \"inputs\": [{\"indexed\": true, \"internalType\": \"address\", \"name\": \"oldOwner\", \"type\": \"address\"}, {\"indexed\": true, \"internalType\": \"address\", \"name\": \"newOwner\", \"type\": \"address\"}], \"name\": \"OwnershipTransferred\", \"type\": \"event\"}, {\"inputs\": [], \"name\": \"Count\", \"outputs\": [{\"internalType\": \"uint256\", \"name\": \"\", \"type\": \"uint256\"}], \"stateMutability\": \"view\", \"type\": \"function\"}, {\"inputs\": [], \"name\": \"creator\", \"outputs\": [{\"internalType\": \"address\", \"name\": \"\", \"type\": \"address\"}], \"stateMutability\": \"view\", \"type\": \"function\"}, {\"inputs\": [], \"name\": \"owner\", \"outputs\": [{\"internalType\": \"address\", \"name\": \"\", \"type\": \"address\"}], \"stateMutability\": \"view\", \"type\": \"function\"}, {\"inputs\": [{\"internalType\": \"uint256\", \"name\": \"id\", \"type\": \"uint256\"}], \"name\": \"readHash\", \"outputs\": [{\"components\": [{\"internalType\": \"uint256\", \"name\": \"id\", \"type\": \"uint256\"}, {\"internalType\": \"string\", \"name\": \"hash\", \"type\": \"string\"}, {\"internalType\": \"string\", \"name\": \"metadata\", \"type\": \"string\"}], \"internalType\": \"struct WeaveHash.DataHash\", \"name\": \"\", \"type\": \"tuple\"}], \"stateMutability\": \"view\", \"type\": \"function\"}, {\"inputs\": [], \"name\": \"readHashes\", \"outputs\": [{\"internalType\": \"string[]\", \"name\": \"\", \"type\": \"string[]\"}], \"stateMutability\": \"view\", \"type\": \"function\"}, {\"inputs\": [], \"name\": \"resetHashes\", \"outputs\": [], \"stateMutability\": \"nonpayable\", \"type\": \"function\"}, {\"inputs\": [{\"internalType\": \"uint256\", \"name\": \"id\", \"type\": \"uint256\"}, {\"internalType\": \"string\", \"name\": \"hash\", \"type\": \"string\"}, {\"internalType\": \"string\", \"name\": \"metadata\", \"type\": \"string\"}], \"name\": \"storeHash\", \"outputs\": [], \"stateMutability\": \"nonpayable\", \"type\": \"function\"}, {\"inputs\": [{\"internalType\": \"address\", \"name\": \"newOwner\", \"type\": \"address\"}], \"name\": \"transferOwnership\", \"outputs\": [], \"stateMutability\": \"nonpayable\", \"type\": \"function\"}]')\n",
    "contract = w3.eth.contract(abi=abi, address=ROOT_HASH_CONTRACT)\n",
    "\n",
    "data = contract.functions.readHash(0).call()\n",
    "\n",
    "chainRootHash = data[1]\n",
    "metadata = json.loads(data[2])\n",
    "chainTs = metadata[\"ts\"]\n",
    "chainRootHashSignature = metadata[\"signature\"]\n",
    "print(\"\\nRoot Hash on chain:\", chainRootHash)\n",
    "print(\"Root Hash matching:\", chainRootHash == rootHash)\n",
    "print(\"Timestamp:\", chainTs)\n",
    "print(\"Signature:\", chainRootHashSignature)\n",
    "\n",
    "toSign = chainRootHash + \" \" + chainTs\n",
    "sigKey = nodeApi.sigKey().get()[\"data\"]\n",
    "reply = nodeApi.verifyDataSignature(sessionOwner, sigKey, chainRootHashSignature, toSign).get()\n",
    "print(\"Check signature:\", reply[\"data\"])"
   ]
  },
  {
   "cell_type": "markdown",
   "id": "1e4f8d68",
   "metadata": {},
   "source": [
    "#### Read Compute Proofs"
   ]
  },
  {
   "cell_type": "code",
   "execution_count": 18,
   "id": "ef40e80b",
   "metadata": {},
   "outputs": [
    {
     "data": {
      "text/html": [
       "<div>\n",
       "<style scoped>\n",
       "    .dataframe tbody tr th:only-of-type {\n",
       "        vertical-align: middle;\n",
       "    }\n",
       "\n",
       "    .dataframe tbody tr th {\n",
       "        vertical-align: top;\n",
       "    }\n",
       "\n",
       "    .dataframe thead th {\n",
       "        text-align: right;\n",
       "    }\n",
       "</style>\n",
       "<table border=\"1\" class=\"dataframe\">\n",
       "  <thead>\n",
       "    <tr style=\"text-align: right;\">\n",
       "      <th></th>\n",
       "      <th>id</th>\n",
       "      <th>ts</th>\n",
       "      <th>writer</th>\n",
       "      <th>sig</th>\n",
       "      <th>data</th>\n",
       "    </tr>\n",
       "  </thead>\n",
       "  <tbody>\n",
       "    <tr>\n",
       "      <th>0</th>\n",
       "      <td>86</td>\n",
       "      <td>1690995398276</td>\n",
       "      <td>weavejZp2gbefkBnZmjmLp3Pxn8HqsWSJGJXYFYStrHfW8ykL</td>\n",
       "      <td>[{\"intervalStart\":0,\"sig\":{\"recordsHash\":\"STeZ...</td>\n",
       "      <td>{\"inputHash\":\"GnPRWDcDGF6kGwpgQbGxis9WQi5JuBd5...</td>\n",
       "    </tr>\n",
       "  </tbody>\n",
       "</table>\n",
       "</div>"
      ],
      "text/plain": [
       "   id             ts                                             writer  \\\n",
       "0  86  1690995398276  weavejZp2gbefkBnZmjmLp3Pxn8HqsWSJGJXYFYStrHfW8ykL   \n",
       "\n",
       "                                                 sig  \\\n",
       "0  [{\"intervalStart\":0,\"sig\":{\"recordsHash\":\"STeZ...   \n",
       "\n",
       "                                                data  \n",
       "0  {\"inputHash\":\"GnPRWDcDGF6kGwpgQbGxis9WQi5JuBd5...  "
      ]
     },
     "metadata": {},
     "output_type": "display_data"
    },
    {
     "data": {
      "text/plain": [
       "[{'intervalStart': 0,\n",
       "  'sig': {'recordsHash': 'STeZm8WtoNKxR7Rthn1xzJ5wqZ2pOfISGJwcU/eFW8I=',\n",
       "   'sig': '5wmKmdToP2tEaVsX2EGkiUv7K1JohP8vArmFvGCZ2m16eZAuB1Nk8FLt74Rtfs3Hq6wffoNcYMP9mdsGozmct3pj'}}]"
      ]
     },
     "metadata": {},
     "output_type": "display_data"
    }
   ],
   "source": [
    "filter = Filter(None, { \"id\": \"ASC\" }, None, [ \"name\" ])\n",
    "reply = nodeApi.read(sessionOwner, data_collection, proofs_table, filter, READ_DEFAULT_NO_CHAIN).get()\n",
    "#print(reply)\n",
    "df = pd.DataFrame(reply[\"data\"])\n",
    "\n",
    "display(df)\n",
    "\n",
    "display(json.loads(df[\"sig\"][0]))"
   ]
  },
  {
   "cell_type": "markdown",
   "id": "f21dbbfb",
   "metadata": {},
   "source": [
    "## 4. Transfer some tokens"
   ]
  },
  {
   "cell_type": "markdown",
   "id": "927bc472",
   "metadata": {},
   "source": [
    "- we expect the wallet that was minted the NFT to transfer some tokens to 0xCec4B18107d8AF27fa1395315e4c002343b6a8c2\n",
    "- **Note**: To be done externally from Metamask, select the account that was used for \"wallet\" above and send ETH, USDC, USDT, MATIC, ETH, VITA"
   ]
  },
  {
   "cell_type": "markdown",
   "id": "0e8b60ba",
   "metadata": {},
   "source": [
    "## 5. Manually run the background task to update user NFTs"
   ]
  },
  {
   "cell_type": "markdown",
   "id": "254d4b48",
   "metadata": {},
   "source": [
    "- this task is executed periodically by the node\n",
    "- it updates the metadata of all NFTs based on their owner donation status"
   ]
  },
  {
   "cell_type": "code",
   "execution_count": 19,
   "id": "76a5099a",
   "metadata": {
    "scrolled": true
   },
   "outputs": [
    {
     "data": {
      "text/plain": [
       "{'res': 'ok',\n",
       " 'target': {'operationType': 'COMPUTE',\n",
       "  'organization': 'lifespan',\n",
       "  'account': 'weavejZp2gbefkBnZmjmLp3Pxn8HqsWSJGJXYFYStrHfW8ykL'},\n",
       " 'data': {'inputHash': 'GnPRWDcDGF6kGwpgQbGxis9WQi5JuBd5pVwUnJGR9tdF',\n",
       "  'console': '{\"res\":\"ok\",\"data\":\"pong 1690995426937\"}\\nUsing rates {\\'ETH\\': 0.0005477, \\'MATIC\\': 1.473, \\'USDC\\': 1, \\'USDT\\': 1, \\'VITA\\': 2.86}\\nParsing 1000 rows\\n[\\'nft\\', \\'polygon\\', \\'0xdF230dC0d5e4c6bBA9f1570A58bE8120a33dc50F\\', \\'1\\'] : checking transactions from 0x2bDb5DA24028bEBa806B7B0CE80D75Dd2d3412F4 to 0xCec4B18107d8AF27fa1395315e4c002343b6a8c2\\n{\\'jsonrpc\\': \\'2.0\\', \\'id\\': 0, \\'result\\': {\\'transfers\\': [{\\'blockNum\\': \\'0x2b81b7d\\', \\'uniqueId\\': \\'0x3f8743fb12e6c755f8d3ec4d7141ff269bad9f5ab14115e0f0011f13fbdbb25c:external\\', \\'hash\\': \\'0x3f8743fb12e6c755f8d3ec4d7141ff269bad9f5ab14115e0f0011f13fbdbb25c\\', \\'from\\': \\'0x2bdb5da24028beba806b7b0ce80d75dd2d3412f4\\', \\'to\\': \\'0xcec4b18107d8af27fa1395315e4c002343b6a8c2\\', \\'value\\': 2, \\'erc721TokenId\\': None, \\'erc1155Metadata\\': None, \\'tokenId\\': None, \\'asset\\': \\'MATIC\\', \\'category\\': \\'external\\', \\'rawContract\\': {\\'value\\': \\'0x1bc16d674ec80000\\', \\'address\\': None, \\'decimal\\': \\'0x12\\'}}]}}\\nUsing 2.0 MATIC = 1.3745704467353952 USD\\nTotal transferred for  0x2bDb5DA24028bEBa806B7B0CE80D75Dd2d3412F4 : 1.3745704467353952\\n[\\'nft\\', \\'polygon\\', \\'0xdF230dC0d5e4c6bBA9f1570A58bE8120a33dc50F\\', \\'2\\'] : checking transactions from 0xCDEF9B7cb58fd55eAbC40004aF9609C89FE2df56 to 0xCec4B18107d8AF27fa1395315e4c002343b6a8c2\\n{\\'jsonrpc\\': \\'2.0\\', \\'id\\': 0, \\'result\\': {\\'transfers\\': [{\\'blockNum\\': \\'0x2b81d5a\\', \\'uniqueId\\': \\'0xf51c5c9c90d306de627f829b5140aad89fae8efa40c0106df63142e532403d6d:log:419\\', \\'hash\\': \\'0xf51c5c9c90d306de627f829b5140aad89fae8efa40c0106df63142e532403d6d\\', \\'from\\': \\'0xcdef9b7cb58fd55eabc40004af9609c89fe2df56\\', \\'to\\': \\'0xcec4b18107d8af27fa1395315e4c002343b6a8c2\\', \\'value\\': 1.5, \\'erc721TokenId\\': None, \\'erc1155Metadata\\': None, \\'tokenId\\': None, \\'asset\\': \\'USDC\\', \\'category\\': \\'erc20\\', \\'rawContract\\': {\\'value\\': \\'0x16e360\\', \\'address\\': \\'0x2791bca1f2de4661ed88a30c99a7a9449aa84174\\', \\'decimal\\': \\'0x6\\'}}]}}\\nUsing 1.5 USDC = 1.5 USD\\nTotal transferred for  0xCDEF9B7cb58fd55eAbC40004aF9609C89FE2df56 : 1.5\\n[\\'nft\\', \\'polygon\\', \\'0xdF230dC0d5e4c6bBA9f1570A58bE8120a33dc50F\\', \\'3\\'] : checking transactions from 0xCDEF9B7cb58fd55eAbC40004aF9609C89FE2df56 to 0xCec4B18107d8AF27fa1395315e4c002343b6a8c2\\n{\\'jsonrpc\\': \\'2.0\\', \\'id\\': 0, \\'result\\': {\\'transfers\\': [{\\'blockNum\\': \\'0x2b81d5a\\', \\'uniqueId\\': \\'0xf51c5c9c90d306de627f829b5140aad89fae8efa40c0106df63142e532403d6d:log:419\\', \\'hash\\': \\'0xf51c5c9c90d306de627f829b5140aad89fae8efa40c0106df63142e532403d6d\\', \\'from\\': \\'0xcdef9b7cb58fd55eabc40004af9609c89fe2df56\\', \\'to\\': \\'0xcec4b18107d8af27fa1395315e4c002343b6a8c2\\', \\'value\\': 1.5, \\'erc721TokenId\\': None, \\'erc1155Metadata\\': None, \\'tokenId\\': None, \\'asset\\': \\'USDC\\', \\'category\\': \\'erc20\\', \\'rawContract\\': {\\'value\\': \\'0x16e360\\', \\'address\\': \\'0x2791bca1f2de4661ed88a30c99a7a9449aa84174\\', \\'decimal\\': \\'0x6\\'}}]}}\\nUsing 1.5 USDC = 1.5 USD\\nTotal transferred for  0xCDEF9B7cb58fd55eAbC40004aF9609C89FE2df56 : 1.5\\n[\\'nft\\', \\'polygon\\', \\'0xdF230dC0d5e4c6bBA9f1570A58bE8120a33dc50F\\', \\'4\\'] : checking transactions from 0x99072461Ab46D864580c937e762473687FC597Cc to 0xCec4B18107d8AF27fa1395315e4c002343b6a8c2\\n{\\'jsonrpc\\': \\'2.0\\', \\'id\\': 0, \\'result\\': {\\'transfers\\': [{\\'blockNum\\': \\'0x2b82e2f\\', \\'uniqueId\\': \\'0xcb5593532e859465c95a82b681e65e405452a07e1be5ac3ec761801f2415ebd8:external\\', \\'hash\\': \\'0xcb5593532e859465c95a82b681e65e405452a07e1be5ac3ec761801f2415ebd8\\', \\'from\\': \\'0x99072461ab46d864580c937e762473687fc597cc\\', \\'to\\': \\'0xcec4b18107d8af27fa1395315e4c002343b6a8c2\\', \\'value\\': 2, \\'erc721TokenId\\': None, \\'erc1155Metadata\\': None, \\'tokenId\\': None, \\'asset\\': \\'MATIC\\', \\'category\\': \\'external\\', \\'rawContract\\': {\\'value\\': \\'0x1bc16d674ec80000\\', \\'address\\': None, \\'decimal\\': \\'0x12\\'}}]}}\\nUsing 2.0 MATIC = 1.3745704467353952 USD\\nTotal transferred for  0x99072461Ab46D864580c937e762473687FC597Cc : 1.3745704467353952\\n[\\'nft\\', \\'polygon\\', \\'0xdF230dC0d5e4c6bBA9f1570A58bE8120a33dc50F\\', \\'5\\'] : checking transactions from 0xa51E0a99B53d5B00937a2631d5865468A3543B7d to 0xCec4B18107d8AF27fa1395315e4c002343b6a8c2\\n{\\'jsonrpc\\': \\'2.0\\', \\'id\\': 0, \\'result\\': {\\'transfers\\': []}}\\nTotal transferred for  0xa51E0a99B53d5B00937a2631d5865468A3543B7d : 0\\n',\n",
       "  'rootHashes': '\"{evolving_nfts={items=hYwi5V13TtkRdxNecHAmzbuwnRS3nN668qLBwwgpwMk}}\"',\n",
       "  'writesSignature': '3SZXMSkv4f84mcaLieYaNfw5EbtxH6Cdqctp1wpKczuVxqpgvMqxNDE2KZMDTUx6iDVMZk72vNvUTFcmFi85UgGD',\n",
       "  'outputHash': '5ajuwjHoLj33yG5t5UFsJtUb3vnRaJQEMPqSLz6VyoHK',\n",
       "  'outputSignature': '35SJr12y7ZpPfk75VGfokGkkj4BSfMP5FvqJDtZtuvk8bWw46opsGyASTXNuhA8EsXpuA2vSzyZf4sqahqLZfGTq',\n",
       "  'computeHash': '9EKb9LnP2p1BBc2KYHVQZvtxawB6yxeoFU3HSC99rQa7',\n",
       "  'WEAVE_API_KEY': 'd066d2803df94bb28435d1311c050fe490ab65adb237a5f8',\n",
       "  'output': '{}',\n",
       "  'input': '[{\"hash\":\"pA+PaDLZ+31cVSyKaXi57DA1oevP6G/to/uLfI+XUMc=\",\"scope\":\"evolving_nfts\",\"table\":\"items\"}]',\n",
       "  'writesHash': '6LfKoQQMqb8fYgA1PwBPKMhFaJ59Fn3DWw6qTRri4zjN',\n",
       "  'paramsHash': 'GKot5hBsd81kMupNCXHaqbhv3huEbxAFMLnpcX2hniwn',\n",
       "  'writes': '[]',\n",
       "  'outputSignatureTs': '53ggf92Pwndn3R4VufDM32qCjmVYugHpGKBg98bEAdPvdxm4Joyekv7jzRZTXuxhkbEVKQho32rGDdcqT6h4A4yJ',\n",
       "  'taskId': '95fc9c45d7104cd8a799e66123ca315f',\n",
       "  'consoleSignature': '2m4DqXC5xmhaN8fnvAKqT4vht9ZWQHPM98gLS5sRg2ymktzzJBA36tZUAPY92MUoJAwLdftk5R7Cx2AVVj5yNsn3',\n",
       "  'ts': '1690995434109'}}"
      ]
     },
     "metadata": {},
     "output_type": "display_data"
    }
   ],
   "source": [
    "reply = nodeApi.compute(sessionOwner, \"gcr.io/weavechain/lifespan_update\", COMPUTE_DEFAULT).get()\n",
    "task_reply = reply\n",
    "display(reply)"
   ]
  },
  {
   "cell_type": "markdown",
   "id": "01f5f5e2",
   "metadata": {},
   "source": [
    "### Verify the NFTs private data in the table"
   ]
  },
  {
   "cell_type": "code",
   "execution_count": 20,
   "id": "916f0795",
   "metadata": {},
   "outputs": [
    {
     "data": {
      "text/html": [
       "<div>\n",
       "<style scoped>\n",
       "    .dataframe tbody tr th:only-of-type {\n",
       "        vertical-align: middle;\n",
       "    }\n",
       "\n",
       "    .dataframe tbody tr th {\n",
       "        vertical-align: top;\n",
       "    }\n",
       "\n",
       "    .dataframe thead th {\n",
       "        text-align: right;\n",
       "    }\n",
       "</style>\n",
       "<table border=\"1\" class=\"dataframe\">\n",
       "  <thead>\n",
       "    <tr style=\"text-align: right;\">\n",
       "      <th></th>\n",
       "      <th>id</th>\n",
       "      <th>ts</th>\n",
       "      <th>pubkey</th>\n",
       "      <th>sig</th>\n",
       "      <th>roles</th>\n",
       "      <th>name</th>\n",
       "      <th>nft_id</th>\n",
       "      <th>metadata</th>\n",
       "      <th>private_data</th>\n",
       "    </tr>\n",
       "  </thead>\n",
       "  <tbody>\n",
       "    <tr>\n",
       "      <th>0</th>\n",
       "      <td>1001</td>\n",
       "      <td>1690994612778</td>\n",
       "      <td>weavejZp2gbefkBnZmjmLp3Pxn8HqsWSJGJXYFYStrHfW8ykL</td>\n",
       "      <td>[{\"sig\":{\"recordsHash\":\"zxKrzg+2xZCOs9rjT2G9Pt...</td>\n",
       "      <td>*</td>\n",
       "      <td>1</td>\n",
       "      <td>nft:polygon:0xdF230dC0d5e4c6bBA9f1570A58bE8120...</td>\n",
       "      <td>{\"name\": \"Proof of Philanthropy\", \"description...</td>\n",
       "      <td>{\"tier\": \"bronze\", \"0x3f8743fb12e6c755f8d3ec4d...</td>\n",
       "    </tr>\n",
       "    <tr>\n",
       "      <th>1</th>\n",
       "      <td>1002</td>\n",
       "      <td>1690994613368</td>\n",
       "      <td>weavejZp2gbefkBnZmjmLp3Pxn8HqsWSJGJXYFYStrHfW8ykL</td>\n",
       "      <td>[{\"sig\":{\"recordsHash\":\"iLpUN1qj83yo/chvYXFscx...</td>\n",
       "      <td>*</td>\n",
       "      <td>2</td>\n",
       "      <td>nft:polygon:0xdF230dC0d5e4c6bBA9f1570A58bE8120...</td>\n",
       "      <td>{\"name\": \"Proof of Philanthropy\", \"description...</td>\n",
       "      <td>{\"tier\": \"bronze\", \"0xf51c5c9c90d306de627f829b...</td>\n",
       "    </tr>\n",
       "    <tr>\n",
       "      <th>2</th>\n",
       "      <td>1003</td>\n",
       "      <td>1690994614162</td>\n",
       "      <td>weavejZp2gbefkBnZmjmLp3Pxn8HqsWSJGJXYFYStrHfW8ykL</td>\n",
       "      <td>[{\"sig\":{\"recordsHash\":\"k+DjePof2c97fSKp3t9eYN...</td>\n",
       "      <td>*</td>\n",
       "      <td>3</td>\n",
       "      <td>nft:polygon:0xdF230dC0d5e4c6bBA9f1570A58bE8120...</td>\n",
       "      <td>{\"name\": \"Proof of Philanthropy\", \"description...</td>\n",
       "      <td>{\"tier\": \"bronze\", \"0xf51c5c9c90d306de627f829b...</td>\n",
       "    </tr>\n",
       "    <tr>\n",
       "      <th>3</th>\n",
       "      <td>1004</td>\n",
       "      <td>1690994614837</td>\n",
       "      <td>weavejZp2gbefkBnZmjmLp3Pxn8HqsWSJGJXYFYStrHfW8ykL</td>\n",
       "      <td>[{\"sig\":{\"recordsHash\":\"hdnm5OJlMQ3ubWDMNC8oGe...</td>\n",
       "      <td>*</td>\n",
       "      <td>4</td>\n",
       "      <td>nft:polygon:0xdF230dC0d5e4c6bBA9f1570A58bE8120...</td>\n",
       "      <td>{\"name\": \"Proof of Philanthropy\", \"description...</td>\n",
       "      <td>{\"tier\": \"bronze\", \"0xcb5593532e859465c95a82b6...</td>\n",
       "    </tr>\n",
       "    <tr>\n",
       "      <th>4</th>\n",
       "      <td>5</td>\n",
       "      <td>1690994599892</td>\n",
       "      <td>weavejZp2gbefkBnZmjmLp3Pxn8HqsWSJGJXYFYStrHfW8ykL</td>\n",
       "      <td>[{\"sig\":{\"recordsHash\":\"2fiAC5pI0hePyipT05zWTn...</td>\n",
       "      <td>*</td>\n",
       "      <td>5</td>\n",
       "      <td>nft:polygon:0xdF230dC0d5e4c6bBA9f1570A58bE8120...</td>\n",
       "      <td>{\"name\": \"Proof of Philanthropy\", \"description...</td>\n",
       "      <td>{\"tier\": \"black\"}</td>\n",
       "    </tr>\n",
       "  </tbody>\n",
       "</table>\n",
       "</div>"
      ],
      "text/plain": [
       "     id             ts                                             pubkey  \\\n",
       "0  1001  1690994612778  weavejZp2gbefkBnZmjmLp3Pxn8HqsWSJGJXYFYStrHfW8ykL   \n",
       "1  1002  1690994613368  weavejZp2gbefkBnZmjmLp3Pxn8HqsWSJGJXYFYStrHfW8ykL   \n",
       "2  1003  1690994614162  weavejZp2gbefkBnZmjmLp3Pxn8HqsWSJGJXYFYStrHfW8ykL   \n",
       "3  1004  1690994614837  weavejZp2gbefkBnZmjmLp3Pxn8HqsWSJGJXYFYStrHfW8ykL   \n",
       "4     5  1690994599892  weavejZp2gbefkBnZmjmLp3Pxn8HqsWSJGJXYFYStrHfW8ykL   \n",
       "\n",
       "                                                 sig roles name  \\\n",
       "0  [{\"sig\":{\"recordsHash\":\"zxKrzg+2xZCOs9rjT2G9Pt...     *    1   \n",
       "1  [{\"sig\":{\"recordsHash\":\"iLpUN1qj83yo/chvYXFscx...     *    2   \n",
       "2  [{\"sig\":{\"recordsHash\":\"k+DjePof2c97fSKp3t9eYN...     *    3   \n",
       "3  [{\"sig\":{\"recordsHash\":\"hdnm5OJlMQ3ubWDMNC8oGe...     *    4   \n",
       "4  [{\"sig\":{\"recordsHash\":\"2fiAC5pI0hePyipT05zWTn...     *    5   \n",
       "\n",
       "                                              nft_id  \\\n",
       "0  nft:polygon:0xdF230dC0d5e4c6bBA9f1570A58bE8120...   \n",
       "1  nft:polygon:0xdF230dC0d5e4c6bBA9f1570A58bE8120...   \n",
       "2  nft:polygon:0xdF230dC0d5e4c6bBA9f1570A58bE8120...   \n",
       "3  nft:polygon:0xdF230dC0d5e4c6bBA9f1570A58bE8120...   \n",
       "4  nft:polygon:0xdF230dC0d5e4c6bBA9f1570A58bE8120...   \n",
       "\n",
       "                                            metadata  \\\n",
       "0  {\"name\": \"Proof of Philanthropy\", \"description...   \n",
       "1  {\"name\": \"Proof of Philanthropy\", \"description...   \n",
       "2  {\"name\": \"Proof of Philanthropy\", \"description...   \n",
       "3  {\"name\": \"Proof of Philanthropy\", \"description...   \n",
       "4  {\"name\": \"Proof of Philanthropy\", \"description...   \n",
       "\n",
       "                                        private_data  \n",
       "0  {\"tier\": \"bronze\", \"0x3f8743fb12e6c755f8d3ec4d...  \n",
       "1  {\"tier\": \"bronze\", \"0xf51c5c9c90d306de627f829b...  \n",
       "2  {\"tier\": \"bronze\", \"0xf51c5c9c90d306de627f829b...  \n",
       "3  {\"tier\": \"bronze\", \"0xcb5593532e859465c95a82b6...  \n",
       "4                                  {\"tier\": \"black\"}  "
      ]
     },
     "metadata": {},
     "output_type": "display_data"
    },
    {
     "data": {
      "text/plain": [
       "{'name': 'Proof of Philanthropy',\n",
       " 'description': '$1-$99 donated, nice start, keep going!',\n",
       " 'external_url': 'https://pop.lifespan.io',\n",
       " 'image': 'https://pop.lifespan.io:10443/file/bronze.jpg',\n",
       " 'attributes': [{'tier': 'bronze'}]}"
      ]
     },
     "metadata": {},
     "output_type": "display_data"
    },
    {
     "data": {
      "text/plain": [
       "[{'sig': {'recordsHash': 'zxKrzg+2xZCOs9rjT2G9PtLo9LT39D+C8OCxwf7UNqM=',\n",
       "   'count': '1',\n",
       "   'pubKey': 'weavejZp2gbefkBnZmjmLp3Pxn8HqsWSJGJXYFYStrHfW8ykL',\n",
       "   'sig': '5N6fQbRQNsHRUpFy6azK6wff4cJFMSHPs9Yb6PA6LTwvT2SNtrPytuEvWwaT9VCczivu9uawifvVfonQRR91NY2c'}}]"
      ]
     },
     "metadata": {},
     "output_type": "display_data"
    }
   ],
   "source": [
    "filter = Filter(None, { \"id\": \"ASC\" }, None, [ \"name\" ])\n",
    "reply = nodeApi.read(sessionOwner, data_collection, items_table, filter, READ_DEFAULT_NO_CHAIN).get()\n",
    "#print(reply)\n",
    "df = pd.DataFrame(reply[\"data\"])\n",
    "\n",
    "display(df.head())\n",
    "\n",
    "display(json.loads(df[\"metadata\"][0]))\n",
    "display(json.loads(df[\"sig\"][0]))"
   ]
  },
  {
   "cell_type": "markdown",
   "id": "9c612c6c",
   "metadata": {},
   "source": [
    "#### The table with the metadata is append-only, the previous state of the NFT is still there"
   ]
  },
  {
   "cell_type": "markdown",
   "id": "bf34ac0e",
   "metadata": {},
   "source": [
    "- note that the the old NFT metadata is retrievable for the node owner"
   ]
  },
  {
   "cell_type": "code",
   "execution_count": 21,
   "id": "b388279c",
   "metadata": {},
   "outputs": [
    {
     "data": {
      "text/html": [
       "<div>\n",
       "<style scoped>\n",
       "    .dataframe tbody tr th:only-of-type {\n",
       "        vertical-align: middle;\n",
       "    }\n",
       "\n",
       "    .dataframe tbody tr th {\n",
       "        vertical-align: top;\n",
       "    }\n",
       "\n",
       "    .dataframe thead th {\n",
       "        text-align: right;\n",
       "    }\n",
       "</style>\n",
       "<table border=\"1\" class=\"dataframe\">\n",
       "  <thead>\n",
       "    <tr style=\"text-align: right;\">\n",
       "      <th></th>\n",
       "      <th>id</th>\n",
       "      <th>ts</th>\n",
       "      <th>pubkey</th>\n",
       "      <th>sig</th>\n",
       "      <th>roles</th>\n",
       "      <th>name</th>\n",
       "      <th>nft_id</th>\n",
       "      <th>metadata</th>\n",
       "      <th>private_data</th>\n",
       "    </tr>\n",
       "  </thead>\n",
       "  <tbody>\n",
       "    <tr>\n",
       "      <th>999</th>\n",
       "      <td>1000</td>\n",
       "      <td>1690994599892</td>\n",
       "      <td>weavejZp2gbefkBnZmjmLp3Pxn8HqsWSJGJXYFYStrHfW8ykL</td>\n",
       "      <td>[{\"sig\":{\"recordsHash\":\"2fiAC5pI0hePyipT05zWTn...</td>\n",
       "      <td>*</td>\n",
       "      <td>1000</td>\n",
       "      <td>nft:polygon:0xdF230dC0d5e4c6bBA9f1570A58bE8120...</td>\n",
       "      <td>{\"name\": \"Proof of Philanthropy\", \"description...</td>\n",
       "      <td>{\"tier\": \"black\"}</td>\n",
       "    </tr>\n",
       "    <tr>\n",
       "      <th>1000</th>\n",
       "      <td>1001</td>\n",
       "      <td>1690994612778</td>\n",
       "      <td>weavejZp2gbefkBnZmjmLp3Pxn8HqsWSJGJXYFYStrHfW8ykL</td>\n",
       "      <td>[{\"sig\":{\"recordsHash\":\"zxKrzg+2xZCOs9rjT2G9Pt...</td>\n",
       "      <td>*</td>\n",
       "      <td>1</td>\n",
       "      <td>nft:polygon:0xdF230dC0d5e4c6bBA9f1570A58bE8120...</td>\n",
       "      <td>{\"name\": \"Proof of Philanthropy\", \"description...</td>\n",
       "      <td>{\"tier\": \"bronze\", \"0x3f8743fb12e6c755f8d3ec4d...</td>\n",
       "    </tr>\n",
       "    <tr>\n",
       "      <th>1001</th>\n",
       "      <td>1002</td>\n",
       "      <td>1690994613368</td>\n",
       "      <td>weavejZp2gbefkBnZmjmLp3Pxn8HqsWSJGJXYFYStrHfW8ykL</td>\n",
       "      <td>[{\"sig\":{\"recordsHash\":\"iLpUN1qj83yo/chvYXFscx...</td>\n",
       "      <td>*</td>\n",
       "      <td>2</td>\n",
       "      <td>nft:polygon:0xdF230dC0d5e4c6bBA9f1570A58bE8120...</td>\n",
       "      <td>{\"name\": \"Proof of Philanthropy\", \"description...</td>\n",
       "      <td>{\"tier\": \"bronze\", \"0xf51c5c9c90d306de627f829b...</td>\n",
       "    </tr>\n",
       "    <tr>\n",
       "      <th>1002</th>\n",
       "      <td>1003</td>\n",
       "      <td>1690994614162</td>\n",
       "      <td>weavejZp2gbefkBnZmjmLp3Pxn8HqsWSJGJXYFYStrHfW8ykL</td>\n",
       "      <td>[{\"sig\":{\"recordsHash\":\"k+DjePof2c97fSKp3t9eYN...</td>\n",
       "      <td>*</td>\n",
       "      <td>3</td>\n",
       "      <td>nft:polygon:0xdF230dC0d5e4c6bBA9f1570A58bE8120...</td>\n",
       "      <td>{\"name\": \"Proof of Philanthropy\", \"description...</td>\n",
       "      <td>{\"tier\": \"bronze\", \"0xf51c5c9c90d306de627f829b...</td>\n",
       "    </tr>\n",
       "    <tr>\n",
       "      <th>1003</th>\n",
       "      <td>1004</td>\n",
       "      <td>1690994614837</td>\n",
       "      <td>weavejZp2gbefkBnZmjmLp3Pxn8HqsWSJGJXYFYStrHfW8ykL</td>\n",
       "      <td>[{\"sig\":{\"recordsHash\":\"hdnm5OJlMQ3ubWDMNC8oGe...</td>\n",
       "      <td>*</td>\n",
       "      <td>4</td>\n",
       "      <td>nft:polygon:0xdF230dC0d5e4c6bBA9f1570A58bE8120...</td>\n",
       "      <td>{\"name\": \"Proof of Philanthropy\", \"description...</td>\n",
       "      <td>{\"tier\": \"bronze\", \"0xcb5593532e859465c95a82b6...</td>\n",
       "    </tr>\n",
       "  </tbody>\n",
       "</table>\n",
       "</div>"
      ],
      "text/plain": [
       "        id             ts                                             pubkey  \\\n",
       "999   1000  1690994599892  weavejZp2gbefkBnZmjmLp3Pxn8HqsWSJGJXYFYStrHfW8ykL   \n",
       "1000  1001  1690994612778  weavejZp2gbefkBnZmjmLp3Pxn8HqsWSJGJXYFYStrHfW8ykL   \n",
       "1001  1002  1690994613368  weavejZp2gbefkBnZmjmLp3Pxn8HqsWSJGJXYFYStrHfW8ykL   \n",
       "1002  1003  1690994614162  weavejZp2gbefkBnZmjmLp3Pxn8HqsWSJGJXYFYStrHfW8ykL   \n",
       "1003  1004  1690994614837  weavejZp2gbefkBnZmjmLp3Pxn8HqsWSJGJXYFYStrHfW8ykL   \n",
       "\n",
       "                                                    sig roles  name  \\\n",
       "999   [{\"sig\":{\"recordsHash\":\"2fiAC5pI0hePyipT05zWTn...     *  1000   \n",
       "1000  [{\"sig\":{\"recordsHash\":\"zxKrzg+2xZCOs9rjT2G9Pt...     *     1   \n",
       "1001  [{\"sig\":{\"recordsHash\":\"iLpUN1qj83yo/chvYXFscx...     *     2   \n",
       "1002  [{\"sig\":{\"recordsHash\":\"k+DjePof2c97fSKp3t9eYN...     *     3   \n",
       "1003  [{\"sig\":{\"recordsHash\":\"hdnm5OJlMQ3ubWDMNC8oGe...     *     4   \n",
       "\n",
       "                                                 nft_id  \\\n",
       "999   nft:polygon:0xdF230dC0d5e4c6bBA9f1570A58bE8120...   \n",
       "1000  nft:polygon:0xdF230dC0d5e4c6bBA9f1570A58bE8120...   \n",
       "1001  nft:polygon:0xdF230dC0d5e4c6bBA9f1570A58bE8120...   \n",
       "1002  nft:polygon:0xdF230dC0d5e4c6bBA9f1570A58bE8120...   \n",
       "1003  nft:polygon:0xdF230dC0d5e4c6bBA9f1570A58bE8120...   \n",
       "\n",
       "                                               metadata  \\\n",
       "999   {\"name\": \"Proof of Philanthropy\", \"description...   \n",
       "1000  {\"name\": \"Proof of Philanthropy\", \"description...   \n",
       "1001  {\"name\": \"Proof of Philanthropy\", \"description...   \n",
       "1002  {\"name\": \"Proof of Philanthropy\", \"description...   \n",
       "1003  {\"name\": \"Proof of Philanthropy\", \"description...   \n",
       "\n",
       "                                           private_data  \n",
       "999                                   {\"tier\": \"black\"}  \n",
       "1000  {\"tier\": \"bronze\", \"0x3f8743fb12e6c755f8d3ec4d...  \n",
       "1001  {\"tier\": \"bronze\", \"0xf51c5c9c90d306de627f829b...  \n",
       "1002  {\"tier\": \"bronze\", \"0xf51c5c9c90d306de627f829b...  \n",
       "1003  {\"tier\": \"bronze\", \"0xcb5593532e859465c95a82b6...  "
      ]
     },
     "metadata": {},
     "output_type": "display_data"
    }
   ],
   "source": [
    "reply = nodeApi.read(sessionOwner, data_collection, items_table, None, READ_DEFAULT_NO_CHAIN).get()\n",
    "#print(reply)\n",
    "df = pd.DataFrame(reply[\"data\"])\n",
    "\n",
    "display(df.tail())"
   ]
  },
  {
   "cell_type": "markdown",
   "id": "f61d6c85",
   "metadata": {},
   "source": [
    "- and there are two types of immutability proofs: \n",
    "1) for the records, both old and new, all stored on blockchain https://polygonscan.com/address/0xd988D35e1228780714b0485e06e20b3Ef884b764"
   ]
  },
  {
   "cell_type": "code",
   "execution_count": 22,
   "id": "6d7bc798",
   "metadata": {},
   "outputs": [
    {
     "data": {
      "text/html": [
       "<div>\n",
       "<style scoped>\n",
       "    .dataframe tbody tr th:only-of-type {\n",
       "        vertical-align: middle;\n",
       "    }\n",
       "\n",
       "    .dataframe tbody tr th {\n",
       "        vertical-align: top;\n",
       "    }\n",
       "\n",
       "    .dataframe thead th {\n",
       "        text-align: right;\n",
       "    }\n",
       "</style>\n",
       "<table border=\"1\" class=\"dataframe\">\n",
       "  <thead>\n",
       "    <tr style=\"text-align: right;\">\n",
       "      <th></th>\n",
       "      <th>ID</th>\n",
       "      <th>Hash</th>\n",
       "    </tr>\n",
       "  </thead>\n",
       "  <tbody>\n",
       "    <tr>\n",
       "      <th>0</th>\n",
       "      <td>1</td>\n",
       "      <td>sUpyWK8UeYMfjQi4F/A+8fzG/bS6DfGe0TzkfekloR0=</td>\n",
       "    </tr>\n",
       "    <tr>\n",
       "      <th>1</th>\n",
       "      <td>1001</td>\n",
       "      <td>l3b4EEhF8ixDeENo4UOkDLS+VRM+C130IWTRkVEzifg=</td>\n",
       "    </tr>\n",
       "    <tr>\n",
       "      <th>2</th>\n",
       "      <td>1003</td>\n",
       "      <td>TdIvy492TZ+dlPkRyrrs+RPidxiF+FCoQJsdY7ndtdA=</td>\n",
       "    </tr>\n",
       "  </tbody>\n",
       "</table>\n",
       "</div>"
      ],
      "text/plain": [
       "     ID                                          Hash\n",
       "0     1  sUpyWK8UeYMfjQi4F/A+8fzG/bS6DfGe0TzkfekloR0=\n",
       "1  1001  l3b4EEhF8ixDeENo4UOkDLS+VRM+C130IWTRkVEzifg=\n",
       "2  1003  TdIvy492TZ+dlPkRyrrs+RPidxiF+FCoQJsdY7ndtdA="
      ]
     },
     "metadata": {},
     "output_type": "display_data"
    }
   ],
   "source": [
    "reply = nodeApi.hashes(sessionOwner, data_collection, items_table, None, READ_DEFAULT_NO_CHAIN).get()\n",
    "#print(reply)\n",
    "dh = pd.DataFrame([ [x, reply[\"data\"][x]] for x in list(reply[\"data\"]) ], columns=[\"ID\", \"Hash\"])\n",
    "display(dh)"
   ]
  },
  {
   "cell_type": "markdown",
   "id": "c7392457",
   "metadata": {},
   "source": [
    "- and 2) there's a merkle root hash the new state of the collection, also stored on blockchain https://polygonscan.com/address/0x09F26968f52235aa18A9feDc918E3818BA1eFD67"
   ]
  },
  {
   "cell_type": "code",
   "execution_count": 23,
   "id": "aadbdf63",
   "metadata": {},
   "outputs": [
    {
     "name": "stdout",
     "output_type": "stream",
     "text": [
      "Root Hash hYwi5V13TtkRdxNecHAmzbuwnRS3nN668qLBwwgpwMk\n",
      "Check signature: true\n"
     ]
    }
   ],
   "source": [
    "reply = nodeApi.rootHash(sessionOwner, data_collection, items_table).get()\n",
    "rootHash = reply[\"data\"][\"rootHash\"]\n",
    "ts = reply[\"data\"][\"timestamp\"]\n",
    "rootHashSignature = reply[\"data\"][\"signature\"]\n",
    "\n",
    "toSign = rootHash + \" \" + ts\n",
    "sigKey = nodeApi.sigKey().get()[\"data\"]\n",
    "reply = nodeApi.verifyDataSignature(sessionOwner, sigKey, rootHashSignature, toSign).get()\n",
    "\n",
    "print(\"Root Hash\", rootHash)\n",
    "print(\"Check signature:\", reply[\"data\"])"
   ]
  },
  {
   "cell_type": "markdown",
   "id": "820c74c2",
   "metadata": {},
   "source": [
    "### The output of the task can be as verbose as needed in order to prove its actions"
   ]
  },
  {
   "cell_type": "code",
   "execution_count": 24,
   "id": "c63062f3",
   "metadata": {},
   "outputs": [
    {
     "name": "stdout",
     "output_type": "stream",
     "text": [
      "{\"res\":\"ok\",\"data\":\"pong 1690995426937\"}\n",
      "Using rates {'ETH': 0.0005477, 'MATIC': 1.473, 'USDC': 1, 'USDT': 1, 'VITA': 2.86}\n",
      "Parsing 1000 rows\n",
      "['nft', 'polygon', '0xdF230dC0d5e4c6bBA9f1570A58bE8120a33dc50F', '1'] : checking transactions from 0x2bDb5DA24028bEBa806B7B0CE80D75Dd2d3412F4 to 0xCec4B18107d8AF27fa1395315e4c002343b6a8c2\n",
      "{'jsonrpc': '2.0', 'id': 0, 'result': {'transfers': [{'blockNum': '0x2b81b7d', 'uniqueId': '0x3f8743fb12e6c755f8d3ec4d7141ff269bad9f5ab14115e0f0011f13fbdbb25c:external', 'hash': '0x3f8743fb12e6c755f8d3ec4d7141ff269bad9f5ab14115e0f0011f13fbdbb25c', 'from': '0x2bdb5da24028beba806b7b0ce80d75dd2d3412f4', 'to': '0xcec4b18107d8af27fa1395315e4c002343b6a8c2', 'value': 2, 'erc721TokenId': None, 'erc1155Metadata': None, 'tokenId': None, 'asset': 'MATIC', 'category': 'external', 'rawContract': {'value': '0x1bc16d674ec80000', 'address': None, 'decimal': '0x12'}}]}}\n",
      "Using 2.0 MATIC = 1.3745704467353952 USD\n",
      "Total transferred for  0x2bDb5DA24028bEBa806B7B0CE80D75Dd2d3412F4 : 1.3745704467353952\n",
      "['nft', 'polygon', '0xdF230dC0d5e4c6bBA9f1570A58bE8120a33dc50F', '2'] : checking transactions from 0xCDEF9B7cb58fd55eAbC40004aF9609C89FE2df56 to 0xCec4B18107d8AF27fa1395315e4c002343b6a8c2\n",
      "{'jsonrpc': '2.0', 'id': 0, 'result': {'transfers': [{'blockNum': '0x2b81d5a', 'uniqueId': '0xf51c5c9c90d306de627f829b5140aad89fae8efa40c0106df63142e532403d6d:log:419', 'hash': '0xf51c5c9c90d306de627f829b5140aad89fae8efa40c0106df63142e532403d6d', 'from': '0xcdef9b7cb58fd55eabc40004af9609c89fe2df56', 'to': '0xcec4b18107d8af27fa1395315e4c002343b6a8c2', 'value': 1.5, 'erc721TokenId': None, 'erc1155Metadata': None, 'tokenId': None, 'asset': 'USDC', 'category': 'erc20', 'rawContract': {'value': '0x16e360', 'address': '0x2791bca1f2de4661ed88a30c99a7a9449aa84174', 'decimal': '0x6'}}]}}\n",
      "Using 1.5 USDC = 1.5 USD\n",
      "Total transferred for  0xCDEF9B7cb58fd55eAbC40004aF9609C89FE2df56 : 1.5\n",
      "['nft', 'polygon', '0xdF230dC0d5e4c6bBA9f1570A58bE8120a33dc50F', '3'] : checking transactions from 0xCDEF9B7cb58fd55eAbC40004aF9609C89FE2df56 to 0xCec4B18107d8AF27fa1395315e4c002343b6a8c2\n",
      "{'jsonrpc': '2.0', 'id': 0, 'result': {'transfers': [{'blockNum': '0x2b81d5a', 'uniqueId': '0xf51c5c9c90d306de627f829b5140aad89fae8efa40c0106df63142e532403d6d:log:419', 'hash': '0xf51c5c9c90d306de627f829b5140aad89fae8efa40c0106df63142e532403d6d', 'from': '0xcdef9b7cb58fd55eabc40004af9609c89fe2df56', 'to': '0xcec4b18107d8af27fa1395315e4c002343b6a8c2', 'value': 1.5, 'erc721TokenId': None, 'erc1155Metadata': None, 'tokenId': None, 'asset': 'USDC', 'category': 'erc20', 'rawContract': {'value': '0x16e360', 'address': '0x2791bca1f2de4661ed88a30c99a7a9449aa84174', 'decimal': '0x6'}}]}}\n",
      "Using 1.5 USDC = 1.5 USD\n",
      "Total transferred for  0xCDEF9B7cb58fd55eAbC40004aF9609C89FE2df56 : 1.5\n",
      "['nft', 'polygon', '0xdF230dC0d5e4c6bBA9f1570A58bE8120a33dc50F', '4'] : checking transactions from 0x99072461Ab46D864580c937e762473687FC597Cc to 0xCec4B18107d8AF27fa1395315e4c002343b6a8c2\n",
      "{'jsonrpc': '2.0', 'id': 0, 'result': {'transfers': [{'blockNum': '0x2b82e2f', 'uniqueId': '0xcb5593532e859465c95a82b681e65e405452a07e1be5ac3ec761801f2415ebd8:external', 'hash': '0xcb5593532e859465c95a82b681e65e405452a07e1be5ac3ec761801f2415ebd8', 'from': '0x99072461ab46d864580c937e762473687fc597cc', 'to': '0xcec4b18107d8af27fa1395315e4c002343b6a8c2', 'value': 2, 'erc721TokenId': None, 'erc1155Metadata': None, 'tokenId': None, 'asset': 'MATIC', 'category': 'external', 'rawContract': {'value': '0x1bc16d674ec80000', 'address': None, 'decimal': '0x12'}}]}}\n",
      "Using 2.0 MATIC = 1.3745704467353952 USD\n",
      "Total transferred for  0x99072461Ab46D864580c937e762473687FC597Cc : 1.3745704467353952\n",
      "['nft', 'polygon', '0xdF230dC0d5e4c6bBA9f1570A58bE8120a33dc50F', '5'] : checking transactions from 0xa51E0a99B53d5B00937a2631d5865468A3543B7d to 0xCec4B18107d8AF27fa1395315e4c002343b6a8c2\n",
      "{'jsonrpc': '2.0', 'id': 0, 'result': {'transfers': []}}\n",
      "Total transferred for  0xa51E0a99B53d5B00937a2631d5865468A3543B7d : 0\n",
      "\n"
     ]
    }
   ],
   "source": [
    "print(task_reply[\"data\"][\"console\"])"
   ]
  },
  {
   "cell_type": "markdown",
   "id": "12d7faa6",
   "metadata": {},
   "source": [
    "### And there is full lineage for the docker image hash, its input and output"
   ]
  },
  {
   "cell_type": "code",
   "execution_count": 25,
   "id": "fb11f807",
   "metadata": {},
   "outputs": [
    {
     "data": {
      "text/plain": [
       "{'inputHash': 'GnPRWDcDGF6kGwpgQbGxis9WQi5JuBd5pVwUnJGR9tdF',\n",
       " 'console': '{\"res\":\"ok\",\"data\":\"pong 1690995426937\"}\\nUsing rates {\\'ETH\\': 0.0005477, \\'MATIC\\': 1.473, \\'USDC\\': 1, \\'USDT\\': 1, \\'VITA\\': 2.86}\\nParsing 1000 rows\\n[\\'nft\\', \\'polygon\\', \\'0xdF230dC0d5e4c6bBA9f1570A58bE8120a33dc50F\\', \\'1\\'] : checking transactions from 0x2bDb5DA24028bEBa806B7B0CE80D75Dd2d3412F4 to 0xCec4B18107d8AF27fa1395315e4c002343b6a8c2\\n{\\'jsonrpc\\': \\'2.0\\', \\'id\\': 0, \\'result\\': {\\'transfers\\': [{\\'blockNum\\': \\'0x2b81b7d\\', \\'uniqueId\\': \\'0x3f8743fb12e6c755f8d3ec4d7141ff269bad9f5ab14115e0f0011f13fbdbb25c:external\\', \\'hash\\': \\'0x3f8743fb12e6c755f8d3ec4d7141ff269bad9f5ab14115e0f0011f13fbdbb25c\\', \\'from\\': \\'0x2bdb5da24028beba806b7b0ce80d75dd2d3412f4\\', \\'to\\': \\'0xcec4b18107d8af27fa1395315e4c002343b6a8c2\\', \\'value\\': 2, \\'erc721TokenId\\': None, \\'erc1155Metadata\\': None, \\'tokenId\\': None, \\'asset\\': \\'MATIC\\', \\'category\\': \\'external\\', \\'rawContract\\': {\\'value\\': \\'0x1bc16d674ec80000\\', \\'address\\': None, \\'decimal\\': \\'0x12\\'}}]}}\\nUsing 2.0 MATIC = 1.3745704467353952 USD\\nTotal transferred for  0x2bDb5DA24028bEBa806B7B0CE80D75Dd2d3412F4 : 1.3745704467353952\\n[\\'nft\\', \\'polygon\\', \\'0xdF230dC0d5e4c6bBA9f1570A58bE8120a33dc50F\\', \\'2\\'] : checking transactions from 0xCDEF9B7cb58fd55eAbC40004aF9609C89FE2df56 to 0xCec4B18107d8AF27fa1395315e4c002343b6a8c2\\n{\\'jsonrpc\\': \\'2.0\\', \\'id\\': 0, \\'result\\': {\\'transfers\\': [{\\'blockNum\\': \\'0x2b81d5a\\', \\'uniqueId\\': \\'0xf51c5c9c90d306de627f829b5140aad89fae8efa40c0106df63142e532403d6d:log:419\\', \\'hash\\': \\'0xf51c5c9c90d306de627f829b5140aad89fae8efa40c0106df63142e532403d6d\\', \\'from\\': \\'0xcdef9b7cb58fd55eabc40004af9609c89fe2df56\\', \\'to\\': \\'0xcec4b18107d8af27fa1395315e4c002343b6a8c2\\', \\'value\\': 1.5, \\'erc721TokenId\\': None, \\'erc1155Metadata\\': None, \\'tokenId\\': None, \\'asset\\': \\'USDC\\', \\'category\\': \\'erc20\\', \\'rawContract\\': {\\'value\\': \\'0x16e360\\', \\'address\\': \\'0x2791bca1f2de4661ed88a30c99a7a9449aa84174\\', \\'decimal\\': \\'0x6\\'}}]}}\\nUsing 1.5 USDC = 1.5 USD\\nTotal transferred for  0xCDEF9B7cb58fd55eAbC40004aF9609C89FE2df56 : 1.5\\n[\\'nft\\', \\'polygon\\', \\'0xdF230dC0d5e4c6bBA9f1570A58bE8120a33dc50F\\', \\'3\\'] : checking transactions from 0xCDEF9B7cb58fd55eAbC40004aF9609C89FE2df56 to 0xCec4B18107d8AF27fa1395315e4c002343b6a8c2\\n{\\'jsonrpc\\': \\'2.0\\', \\'id\\': 0, \\'result\\': {\\'transfers\\': [{\\'blockNum\\': \\'0x2b81d5a\\', \\'uniqueId\\': \\'0xf51c5c9c90d306de627f829b5140aad89fae8efa40c0106df63142e532403d6d:log:419\\', \\'hash\\': \\'0xf51c5c9c90d306de627f829b5140aad89fae8efa40c0106df63142e532403d6d\\', \\'from\\': \\'0xcdef9b7cb58fd55eabc40004af9609c89fe2df56\\', \\'to\\': \\'0xcec4b18107d8af27fa1395315e4c002343b6a8c2\\', \\'value\\': 1.5, \\'erc721TokenId\\': None, \\'erc1155Metadata\\': None, \\'tokenId\\': None, \\'asset\\': \\'USDC\\', \\'category\\': \\'erc20\\', \\'rawContract\\': {\\'value\\': \\'0x16e360\\', \\'address\\': \\'0x2791bca1f2de4661ed88a30c99a7a9449aa84174\\', \\'decimal\\': \\'0x6\\'}}]}}\\nUsing 1.5 USDC = 1.5 USD\\nTotal transferred for  0xCDEF9B7cb58fd55eAbC40004aF9609C89FE2df56 : 1.5\\n[\\'nft\\', \\'polygon\\', \\'0xdF230dC0d5e4c6bBA9f1570A58bE8120a33dc50F\\', \\'4\\'] : checking transactions from 0x99072461Ab46D864580c937e762473687FC597Cc to 0xCec4B18107d8AF27fa1395315e4c002343b6a8c2\\n{\\'jsonrpc\\': \\'2.0\\', \\'id\\': 0, \\'result\\': {\\'transfers\\': [{\\'blockNum\\': \\'0x2b82e2f\\', \\'uniqueId\\': \\'0xcb5593532e859465c95a82b681e65e405452a07e1be5ac3ec761801f2415ebd8:external\\', \\'hash\\': \\'0xcb5593532e859465c95a82b681e65e405452a07e1be5ac3ec761801f2415ebd8\\', \\'from\\': \\'0x99072461ab46d864580c937e762473687fc597cc\\', \\'to\\': \\'0xcec4b18107d8af27fa1395315e4c002343b6a8c2\\', \\'value\\': 2, \\'erc721TokenId\\': None, \\'erc1155Metadata\\': None, \\'tokenId\\': None, \\'asset\\': \\'MATIC\\', \\'category\\': \\'external\\', \\'rawContract\\': {\\'value\\': \\'0x1bc16d674ec80000\\', \\'address\\': None, \\'decimal\\': \\'0x12\\'}}]}}\\nUsing 2.0 MATIC = 1.3745704467353952 USD\\nTotal transferred for  0x99072461Ab46D864580c937e762473687FC597Cc : 1.3745704467353952\\n[\\'nft\\', \\'polygon\\', \\'0xdF230dC0d5e4c6bBA9f1570A58bE8120a33dc50F\\', \\'5\\'] : checking transactions from 0xa51E0a99B53d5B00937a2631d5865468A3543B7d to 0xCec4B18107d8AF27fa1395315e4c002343b6a8c2\\n{\\'jsonrpc\\': \\'2.0\\', \\'id\\': 0, \\'result\\': {\\'transfers\\': []}}\\nTotal transferred for  0xa51E0a99B53d5B00937a2631d5865468A3543B7d : 0\\n',\n",
       " 'rootHashes': '\"{evolving_nfts={items=hYwi5V13TtkRdxNecHAmzbuwnRS3nN668qLBwwgpwMk}}\"',\n",
       " 'writesSignature': '3SZXMSkv4f84mcaLieYaNfw5EbtxH6Cdqctp1wpKczuVxqpgvMqxNDE2KZMDTUx6iDVMZk72vNvUTFcmFi85UgGD',\n",
       " 'outputHash': '5ajuwjHoLj33yG5t5UFsJtUb3vnRaJQEMPqSLz6VyoHK',\n",
       " 'outputSignature': '35SJr12y7ZpPfk75VGfokGkkj4BSfMP5FvqJDtZtuvk8bWw46opsGyASTXNuhA8EsXpuA2vSzyZf4sqahqLZfGTq',\n",
       " 'computeHash': '9EKb9LnP2p1BBc2KYHVQZvtxawB6yxeoFU3HSC99rQa7',\n",
       " 'WEAVE_API_KEY': 'd066d2803df94bb28435d1311c050fe490ab65adb237a5f8',\n",
       " 'output': '{}',\n",
       " 'input': '[{\"hash\":\"pA+PaDLZ+31cVSyKaXi57DA1oevP6G/to/uLfI+XUMc=\",\"scope\":\"evolving_nfts\",\"table\":\"items\"}]',\n",
       " 'writesHash': '6LfKoQQMqb8fYgA1PwBPKMhFaJ59Fn3DWw6qTRri4zjN',\n",
       " 'paramsHash': 'GKot5hBsd81kMupNCXHaqbhv3huEbxAFMLnpcX2hniwn',\n",
       " 'writes': '[]',\n",
       " 'outputSignatureTs': '53ggf92Pwndn3R4VufDM32qCjmVYugHpGKBg98bEAdPvdxm4Joyekv7jzRZTXuxhkbEVKQho32rGDdcqT6h4A4yJ',\n",
       " 'taskId': '95fc9c45d7104cd8a799e66123ca315f',\n",
       " 'consoleSignature': '2m4DqXC5xmhaN8fnvAKqT4vht9ZWQHPM98gLS5sRg2ymktzzJBA36tZUAPY92MUoJAwLdftk5R7Cx2AVVj5yNsn3',\n",
       " 'ts': '1690995434109'}"
      ]
     },
     "metadata": {},
     "output_type": "display_data"
    }
   ],
   "source": [
    "display(task_reply[\"data\"])"
   ]
  },
  {
   "cell_type": "markdown",
   "id": "6c775f97",
   "metadata": {},
   "source": [
    "- some highlights"
   ]
  },
  {
   "cell_type": "code",
   "execution_count": 26,
   "id": "d166a91f",
   "metadata": {},
   "outputs": [
    {
     "name": "stdout",
     "output_type": "stream",
     "text": [
      "Compute task hash: 9EKb9LnP2p1BBc2KYHVQZvtxawB6yxeoFU3HSC99rQa7\n",
      "Input hash: GnPRWDcDGF6kGwpgQbGxis9WQi5JuBd5pVwUnJGR9tdF\n",
      "Output hash: 5ajuwjHoLj33yG5t5UFsJtUb3vnRaJQEMPqSLz6VyoHK\n",
      "Output signature: 53ggf92Pwndn3R4VufDM32qCjmVYugHpGKBg98bEAdPvdxm4Joyekv7jzRZTXuxhkbEVKQho32rGDdcqT6h4A4yJ\n"
     ]
    }
   ],
   "source": [
    "print(\"Compute task hash:\", task_reply[\"data\"][\"computeHash\"])\n",
    "print(\"Input hash:\", task_reply[\"data\"][\"inputHash\"])\n",
    "print(\"Output hash:\", task_reply[\"data\"][\"outputHash\"])\n",
    "print(\"Output signature:\", task_reply[\"data\"][\"outputSignatureTs\"])"
   ]
  },
  {
   "cell_type": "markdown",
   "id": "7a84684c",
   "metadata": {},
   "source": [
    "#### Verify the compute lineage signature"
   ]
  },
  {
   "cell_type": "code",
   "execution_count": 27,
   "id": "45b71598",
   "metadata": {},
   "outputs": [
    {
     "name": "stdout",
     "output_type": "stream",
     "text": [
      "Signature Match: True\n"
     ]
    }
   ],
   "source": [
    "data = task_reply[\"data\"]\n",
    "signature = data[\"outputSignature\"]\n",
    "match = nodeApi.verifyLineageSignature(signature, data.get(\"inputHash\"), data.get(\"computeHash\"), data.get(\"paramsHash\"), data[\"output\"])\n",
    "print(\"Signature Match:\", match)"
   ]
  },
  {
   "cell_type": "markdown",
   "id": "00e22e6f",
   "metadata": {},
   "source": [
    "### There is full audit available for the node owner, including for reads"
   ]
  },
  {
   "cell_type": "code",
   "execution_count": 37,
   "id": "816b49f6",
   "metadata": {},
   "outputs": [
    {
     "data": {
      "text/html": [
       "<div>\n",
       "<style scoped>\n",
       "    .dataframe tbody tr th:only-of-type {\n",
       "        vertical-align: middle;\n",
       "    }\n",
       "\n",
       "    .dataframe tbody tr th {\n",
       "        vertical-align: top;\n",
       "    }\n",
       "\n",
       "    .dataframe thead th {\n",
       "        text-align: right;\n",
       "    }\n",
       "</style>\n",
       "<table border=\"1\" class=\"dataframe\">\n",
       "  <thead>\n",
       "    <tr style=\"text-align: right;\">\n",
       "      <th></th>\n",
       "      <th>recordId</th>\n",
       "      <th>history</th>\n",
       "    </tr>\n",
       "  </thead>\n",
       "  <tbody>\n",
       "    <tr>\n",
       "      <th>1</th>\n",
       "      <td>1</td>\n",
       "      <td>[{'account': 'weavejZp2gbefkBnZmjmLp3Pxn8HqsWS...</td>\n",
       "    </tr>\n",
       "    <tr>\n",
       "      <th>2</th>\n",
       "      <td>2</td>\n",
       "      <td>[{'account': 'weavejZp2gbefkBnZmjmLp3Pxn8HqsWS...</td>\n",
       "    </tr>\n",
       "    <tr>\n",
       "      <th>3</th>\n",
       "      <td>3</td>\n",
       "      <td>[{'account': 'weavejZp2gbefkBnZmjmLp3Pxn8HqsWS...</td>\n",
       "    </tr>\n",
       "    <tr>\n",
       "      <th>4</th>\n",
       "      <td>4</td>\n",
       "      <td>[{'account': 'weavejZp2gbefkBnZmjmLp3Pxn8HqsWS...</td>\n",
       "    </tr>\n",
       "    <tr>\n",
       "      <th>5</th>\n",
       "      <td>5</td>\n",
       "      <td>[{'account': 'weavejZp2gbefkBnZmjmLp3Pxn8HqsWS...</td>\n",
       "    </tr>\n",
       "    <tr>\n",
       "      <th>...</th>\n",
       "      <td>...</td>\n",
       "      <td>...</td>\n",
       "    </tr>\n",
       "    <tr>\n",
       "      <th>5120</th>\n",
       "      <td>5120</td>\n",
       "      <td>[{'account': 'weavejZp2gbefkBnZmjmLp3Pxn8HqsWS...</td>\n",
       "    </tr>\n",
       "    <tr>\n",
       "      <th>6037</th>\n",
       "      <td>6037</td>\n",
       "      <td>[{'account': 'weavejZp2gbefkBnZmjmLp3Pxn8HqsWS...</td>\n",
       "    </tr>\n",
       "    <tr>\n",
       "      <th>6038</th>\n",
       "      <td>6038</td>\n",
       "      <td>[{'account': 'weavejZp2gbefkBnZmjmLp3Pxn8HqsWS...</td>\n",
       "    </tr>\n",
       "    <tr>\n",
       "      <th>6039</th>\n",
       "      <td>6039</td>\n",
       "      <td>[{'account': 'weavejZp2gbefkBnZmjmLp3Pxn8HqsWS...</td>\n",
       "    </tr>\n",
       "    <tr>\n",
       "      <th>6040</th>\n",
       "      <td>6040</td>\n",
       "      <td>[{'account': 'weavejZp2gbefkBnZmjmLp3Pxn8HqsWS...</td>\n",
       "    </tr>\n",
       "  </tbody>\n",
       "</table>\n",
       "<p>1108 rows × 2 columns</p>\n",
       "</div>"
      ],
      "text/plain": [
       "     recordId                                            history\n",
       "1           1  [{'account': 'weavejZp2gbefkBnZmjmLp3Pxn8HqsWS...\n",
       "2           2  [{'account': 'weavejZp2gbefkBnZmjmLp3Pxn8HqsWS...\n",
       "3           3  [{'account': 'weavejZp2gbefkBnZmjmLp3Pxn8HqsWS...\n",
       "4           4  [{'account': 'weavejZp2gbefkBnZmjmLp3Pxn8HqsWS...\n",
       "5           5  [{'account': 'weavejZp2gbefkBnZmjmLp3Pxn8HqsWS...\n",
       "...       ...                                                ...\n",
       "5120     5120  [{'account': 'weavejZp2gbefkBnZmjmLp3Pxn8HqsWS...\n",
       "6037     6037  [{'account': 'weavejZp2gbefkBnZmjmLp3Pxn8HqsWS...\n",
       "6038     6038  [{'account': 'weavejZp2gbefkBnZmjmLp3Pxn8HqsWS...\n",
       "6039     6039  [{'account': 'weavejZp2gbefkBnZmjmLp3Pxn8HqsWS...\n",
       "6040     6040  [{'account': 'weavejZp2gbefkBnZmjmLp3Pxn8HqsWS...\n",
       "\n",
       "[1108 rows x 2 columns]"
      ]
     },
     "metadata": {},
     "output_type": "display_data"
    },
    {
     "data": {
      "text/html": [
       "<div>\n",
       "<style scoped>\n",
       "    .dataframe tbody tr th:only-of-type {\n",
       "        vertical-align: middle;\n",
       "    }\n",
       "\n",
       "    .dataframe tbody tr th {\n",
       "        vertical-align: top;\n",
       "    }\n",
       "\n",
       "    .dataframe thead th {\n",
       "        text-align: right;\n",
       "    }\n",
       "</style>\n",
       "<table border=\"1\" class=\"dataframe\">\n",
       "  <thead>\n",
       "    <tr style=\"text-align: right;\">\n",
       "      <th></th>\n",
       "      <th>account</th>\n",
       "      <th>operation</th>\n",
       "      <th>timestamp</th>\n",
       "      <th>ip</th>\n",
       "      <th>apiKey</th>\n",
       "      <th>taskId</th>\n",
       "      <th>image</th>\n",
       "    </tr>\n",
       "  </thead>\n",
       "  <tbody>\n",
       "    <tr>\n",
       "      <th>0</th>\n",
       "      <td>weavejZp2gbefkBnZmjmLp3Pxn8HqsWSJGJXYFYStrHfW8ykL</td>\n",
       "      <td>read</td>\n",
       "      <td>1690977857892999936</td>\n",
       "      <td>172.174.28.163</td>\n",
       "      <td>e2c243b3d457432083262c61d8251e34e806e726f09d4ee1</td>\n",
       "      <td>NaN</td>\n",
       "      <td>NaN</td>\n",
       "    </tr>\n",
       "    <tr>\n",
       "      <th>1</th>\n",
       "      <td>weavejZp2gbefkBnZmjmLp3Pxn8HqsWSJGJXYFYStrHfW8ykL</td>\n",
       "      <td>read</td>\n",
       "      <td>1690977861332000000</td>\n",
       "      <td>172.174.28.163</td>\n",
       "      <td>e2c243b3d457432083262c61d8251e34e806e726f09d4ee1</td>\n",
       "      <td>NaN</td>\n",
       "      <td>NaN</td>\n",
       "    </tr>\n",
       "    <tr>\n",
       "      <th>2</th>\n",
       "      <td>weavejZp2gbefkBnZmjmLp3Pxn8HqsWSJGJXYFYStrHfW8ykL</td>\n",
       "      <td>read</td>\n",
       "      <td>1690977872828000000</td>\n",
       "      <td>172.174.28.163</td>\n",
       "      <td>e2c243b3d457432083262c61d8251e34e806e726f09d4ee1</td>\n",
       "      <td>NaN</td>\n",
       "      <td>NaN</td>\n",
       "    </tr>\n",
       "    <tr>\n",
       "      <th>3</th>\n",
       "      <td>weavejZp2gbefkBnZmjmLp3Pxn8HqsWSJGJXYFYStrHfW8ykL</td>\n",
       "      <td>read</td>\n",
       "      <td>1690977902740000000</td>\n",
       "      <td>localhost</td>\n",
       "      <td>49d21572c345488e8ac19c25760ff439990bbfe826b556f2</td>\n",
       "      <td>5f4bca166f3743288e6865ddc34bb15b</td>\n",
       "      <td>gcr.io/weavechain/lifespan_update</td>\n",
       "    </tr>\n",
       "    <tr>\n",
       "      <th>4</th>\n",
       "      <td>weavejZp2gbefkBnZmjmLp3Pxn8HqsWSJGJXYFYStrHfW8ykL</td>\n",
       "      <td>read</td>\n",
       "      <td>1690978201364999936</td>\n",
       "      <td>localhost</td>\n",
       "      <td>df8b4909a42d491c8ad7f62d096246a615fe9c6347384a6b</td>\n",
       "      <td>3bbf482c7c024a1baed9f1f2a788903e</td>\n",
       "      <td>gcr.io/weavechain/lifespan_update</td>\n",
       "    </tr>\n",
       "    <tr>\n",
       "      <th>...</th>\n",
       "      <td>...</td>\n",
       "      <td>...</td>\n",
       "      <td>...</td>\n",
       "      <td>...</td>\n",
       "      <td>...</td>\n",
       "      <td>...</td>\n",
       "      <td>...</td>\n",
       "    </tr>\n",
       "    <tr>\n",
       "      <th>78</th>\n",
       "      <td>weavejZp2gbefkBnZmjmLp3Pxn8HqsWSJGJXYFYStrHfW8ykL</td>\n",
       "      <td>read</td>\n",
       "      <td>1690993201233999872</td>\n",
       "      <td>localhost</td>\n",
       "      <td>afb6da731c894107b6f503a9d0f1a9cc4ed4c81593cbcce7</td>\n",
       "      <td>a657ddc5cde54c2399d8b064154456e5</td>\n",
       "      <td>gcr.io/weavechain/lifespan_update</td>\n",
       "    </tr>\n",
       "    <tr>\n",
       "      <th>79</th>\n",
       "      <td>weavejZp2gbefkBnZmjmLp3Pxn8HqsWSJGJXYFYStrHfW8ykL</td>\n",
       "      <td>read</td>\n",
       "      <td>1690993501169999872</td>\n",
       "      <td>localhost</td>\n",
       "      <td>311f6e74679a4a3493738a6c7f2198ae089c76f8c002da93</td>\n",
       "      <td>fc5cb38286dd4b1e9a6cd6a35f929da4</td>\n",
       "      <td>gcr.io/weavechain/lifespan_update</td>\n",
       "    </tr>\n",
       "    <tr>\n",
       "      <th>80</th>\n",
       "      <td>weavejZp2gbefkBnZmjmLp3Pxn8HqsWSJGJXYFYStrHfW8ykL</td>\n",
       "      <td>read</td>\n",
       "      <td>1690993801244999936</td>\n",
       "      <td>localhost</td>\n",
       "      <td>6586c026da0b4abf8b5fdbfd01d6fd4f56bf79eb5dcf4f76</td>\n",
       "      <td>74c7a34d95d04a97beee047577efe326</td>\n",
       "      <td>gcr.io/weavechain/lifespan_update</td>\n",
       "    </tr>\n",
       "    <tr>\n",
       "      <th>81</th>\n",
       "      <td>weavejZp2gbefkBnZmjmLp3Pxn8HqsWSJGJXYFYStrHfW8ykL</td>\n",
       "      <td>read</td>\n",
       "      <td>1690994101156000000</td>\n",
       "      <td>localhost</td>\n",
       "      <td>3ff7f7cdb0ac42d7b2b7038796593feaec14f6201e11951c</td>\n",
       "      <td>c0de852ee9c74ecca055ebb8b8f41c43</td>\n",
       "      <td>gcr.io/weavechain/lifespan_update</td>\n",
       "    </tr>\n",
       "    <tr>\n",
       "      <th>82</th>\n",
       "      <td>weavejZp2gbefkBnZmjmLp3Pxn8HqsWSJGJXYFYStrHfW8ykL</td>\n",
       "      <td>read</td>\n",
       "      <td>1690994401128000000</td>\n",
       "      <td>localhost</td>\n",
       "      <td>fdbb5dd3cd124e5fa526f91e9736feada217d4b01cfcf95b</td>\n",
       "      <td>db6acc556ef046c58b51bb4cccd32aa6</td>\n",
       "      <td>gcr.io/weavechain/lifespan_update</td>\n",
       "    </tr>\n",
       "  </tbody>\n",
       "</table>\n",
       "<p>83 rows × 7 columns</p>\n",
       "</div>"
      ],
      "text/plain": [
       "                                              account operation  \\\n",
       "0   weavejZp2gbefkBnZmjmLp3Pxn8HqsWSJGJXYFYStrHfW8ykL      read   \n",
       "1   weavejZp2gbefkBnZmjmLp3Pxn8HqsWSJGJXYFYStrHfW8ykL      read   \n",
       "2   weavejZp2gbefkBnZmjmLp3Pxn8HqsWSJGJXYFYStrHfW8ykL      read   \n",
       "3   weavejZp2gbefkBnZmjmLp3Pxn8HqsWSJGJXYFYStrHfW8ykL      read   \n",
       "4   weavejZp2gbefkBnZmjmLp3Pxn8HqsWSJGJXYFYStrHfW8ykL      read   \n",
       "..                                                ...       ...   \n",
       "78  weavejZp2gbefkBnZmjmLp3Pxn8HqsWSJGJXYFYStrHfW8ykL      read   \n",
       "79  weavejZp2gbefkBnZmjmLp3Pxn8HqsWSJGJXYFYStrHfW8ykL      read   \n",
       "80  weavejZp2gbefkBnZmjmLp3Pxn8HqsWSJGJXYFYStrHfW8ykL      read   \n",
       "81  weavejZp2gbefkBnZmjmLp3Pxn8HqsWSJGJXYFYStrHfW8ykL      read   \n",
       "82  weavejZp2gbefkBnZmjmLp3Pxn8HqsWSJGJXYFYStrHfW8ykL      read   \n",
       "\n",
       "              timestamp              ip  \\\n",
       "0   1690977857892999936  172.174.28.163   \n",
       "1   1690977861332000000  172.174.28.163   \n",
       "2   1690977872828000000  172.174.28.163   \n",
       "3   1690977902740000000       localhost   \n",
       "4   1690978201364999936       localhost   \n",
       "..                  ...             ...   \n",
       "78  1690993201233999872       localhost   \n",
       "79  1690993501169999872       localhost   \n",
       "80  1690993801244999936       localhost   \n",
       "81  1690994101156000000       localhost   \n",
       "82  1690994401128000000       localhost   \n",
       "\n",
       "                                              apiKey  \\\n",
       "0   e2c243b3d457432083262c61d8251e34e806e726f09d4ee1   \n",
       "1   e2c243b3d457432083262c61d8251e34e806e726f09d4ee1   \n",
       "2   e2c243b3d457432083262c61d8251e34e806e726f09d4ee1   \n",
       "3   49d21572c345488e8ac19c25760ff439990bbfe826b556f2   \n",
       "4   df8b4909a42d491c8ad7f62d096246a615fe9c6347384a6b   \n",
       "..                                               ...   \n",
       "78  afb6da731c894107b6f503a9d0f1a9cc4ed4c81593cbcce7   \n",
       "79  311f6e74679a4a3493738a6c7f2198ae089c76f8c002da93   \n",
       "80  6586c026da0b4abf8b5fdbfd01d6fd4f56bf79eb5dcf4f76   \n",
       "81  3ff7f7cdb0ac42d7b2b7038796593feaec14f6201e11951c   \n",
       "82  fdbb5dd3cd124e5fa526f91e9736feada217d4b01cfcf95b   \n",
       "\n",
       "                              taskId                              image  \n",
       "0                                NaN                                NaN  \n",
       "1                                NaN                                NaN  \n",
       "2                                NaN                                NaN  \n",
       "3   5f4bca166f3743288e6865ddc34bb15b  gcr.io/weavechain/lifespan_update  \n",
       "4   3bbf482c7c024a1baed9f1f2a788903e  gcr.io/weavechain/lifespan_update  \n",
       "..                               ...                                ...  \n",
       "78  a657ddc5cde54c2399d8b064154456e5  gcr.io/weavechain/lifespan_update  \n",
       "79  fc5cb38286dd4b1e9a6cd6a35f929da4  gcr.io/weavechain/lifespan_update  \n",
       "80  74c7a34d95d04a97beee047577efe326  gcr.io/weavechain/lifespan_update  \n",
       "81  c0de852ee9c74ecca055ebb8b8f41c43  gcr.io/weavechain/lifespan_update  \n",
       "82  db6acc556ef046c58b51bb4cccd32aa6  gcr.io/weavechain/lifespan_update  \n",
       "\n",
       "[83 rows x 7 columns]"
      ]
     },
     "execution_count": 37,
     "metadata": {},
     "output_type": "execute_result"
    }
   ],
   "source": [
    "reply = nodeApi.history(sessionOwner, data_collection, items_table, None, HISTORY_DEFAULT).get()\n",
    "#print(reply)\n",
    "df = pd.DataFrame(reply[\"data\"]).transpose()\n",
    "\n",
    "display(df)\n",
    "pd.DataFrame(df.iloc[-1][\"history\"])"
   ]
  }
 ],
 "metadata": {
  "kernelspec": {
   "display_name": "Python 3 (ipykernel)",
   "language": "python",
   "name": "python3"
  },
  "language_info": {
   "codemirror_mode": {
    "name": "ipython",
    "version": 3
   },
   "file_extension": ".py",
   "mimetype": "text/x-python",
   "name": "python",
   "nbconvert_exporter": "python",
   "pygments_lexer": "ipython3",
   "version": "3.9.14"
  }
 },
 "nbformat": 4,
 "nbformat_minor": 5
}
